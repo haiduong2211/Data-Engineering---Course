{
 "cells": [
  {
   "cell_type": "code",
   "execution_count": 4,
   "metadata": {},
   "outputs": [
    {
     "name": "stdout",
     "output_type": "stream",
     "text": [
      "[1, 2, 3, 4, 5, 6, 7, 8, 9]\n"
     ]
    }
   ],
   "source": [
    "#Lab 5.1 - Sắp xếp 3-phân đoạn\n",
    "# Uses python3\n",
    "import sys\n",
    "import random\n",
    "a = [9, 1, 3, 7, 8, 4, 2, 6, 5]\n",
    "\n",
    "def partition3(a, l, r):\n",
    "    low = l\n",
    "    i = l\n",
    "    high = r\n",
    "    pivot = a[l]\n",
    "    while i <= high:\n",
    "        if a[i] < pivot:\n",
    "            a[low],a[i] = a[i],a[low]\n",
    "            i+=1\n",
    "            low +=1\n",
    "        elif a[i] > pivot:\n",
    "            a[high],a[i]=a[i],a[high]\n",
    "            high -=1\n",
    "        else:\n",
    "            i +=1\n",
    "    return low,high  \n",
    "\n",
    "def partition2(a, l, r):\n",
    "    x = a[l]\n",
    "    j = l\n",
    "    for i in range(l + 1, r + 1):\n",
    "        if a[i] <= x:\n",
    "            j += 1\n",
    "            a[i], a[j] = a[j], a[i]\n",
    "    a[l], a[j] = a[j], a[l]\n",
    "    return j\n",
    "\n",
    "\n",
    "def randomized_quick_sort(a, l, r):\n",
    "    if l >= r:\n",
    "        return\n",
    "    k = random.randint(l, r)\n",
    "    a[l], a[k] = a[k], a[l]\n",
    "    #use partition3\n",
    "    low,high = partition3(a, l, r)\n",
    "    randomized_quick_sort(a, l, low - 1)\n",
    "    randomized_quick_sort(a, high + 1, r)\n",
    "\n",
    "randomized_quick_sort(a,0,len(a)-1)\n",
    "print(a)"
   ]
  }
 ],
 "metadata": {
  "interpreter": {
   "hash": "49ed69d14c5bafd33dd9e3625d3b76637c4ab0eb3e78e730b1c53bf7385e46f6"
  },
  "kernelspec": {
   "display_name": "Python 3.10.0 64-bit",
   "language": "python",
   "name": "python3"
  },
  "language_info": {
   "codemirror_mode": {
    "name": "ipython",
    "version": 3
   },
   "file_extension": ".py",
   "mimetype": "text/x-python",
   "name": "python",
   "nbconvert_exporter": "python",
   "pygments_lexer": "ipython3",
   "version": "3.10.0"
  },
  "orig_nbformat": 4
 },
 "nbformat": 4,
 "nbformat_minor": 2
}
