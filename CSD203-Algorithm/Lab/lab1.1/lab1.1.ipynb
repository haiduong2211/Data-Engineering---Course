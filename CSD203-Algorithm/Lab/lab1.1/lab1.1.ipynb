{
 "cells": [
  {
   "cell_type": "code",
   "execution_count": 1,
   "metadata": {},
   "outputs": [
    {
     "name": "stdout",
     "output_type": "stream",
     "text": [
      "701408733\n"
     ]
    }
   ],
   "source": [
    "#Thêm từng chữ số Fibonnachi vào list/array bằng cách cộng 2 số trước đó lại\n",
    "def fibonacci(n):\n",
    "    lst = []\n",
    "    if n <=1: return n\n",
    "    lst.append(0)\n",
    "    lst.append(1)\n",
    "    for i in range (2,n+1):\n",
    "        lst.append(lst[i-2]+lst[i-1])\n",
    "    return lst[n]\n",
    "\n",
    "print(fibonacci(44))\n"
   ]
  }
 ],
 "metadata": {
  "kernelspec": {
   "display_name": "Python 3.10.0 64-bit",
   "language": "python",
   "name": "python3"
  },
  "language_info": {
   "codemirror_mode": {
    "name": "ipython",
    "version": 3
   },
   "file_extension": ".py",
   "mimetype": "text/x-python",
   "name": "python",
   "nbconvert_exporter": "python",
   "pygments_lexer": "ipython3",
   "version": "3.10.0"
  },
  "orig_nbformat": 4,
  "vscode": {
   "interpreter": {
    "hash": "49ed69d14c5bafd33dd9e3625d3b76637c4ab0eb3e78e730b1c53bf7385e46f6"
   }
  }
 },
 "nbformat": 4,
 "nbformat_minor": 2
}
