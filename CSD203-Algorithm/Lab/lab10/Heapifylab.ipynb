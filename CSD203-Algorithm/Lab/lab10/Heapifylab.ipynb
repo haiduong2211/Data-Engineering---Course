{
 "cells": [
  {
   "cell_type": "code",
   "execution_count": 5,
   "metadata": {},
   "outputs": [
    {
     "name": "stdout",
     "output_type": "stream",
     "text": [
      "3\n",
      "1 4\n",
      "0 1\n",
      "1 4\n"
     ]
    }
   ],
   "source": [
    "# python3\n",
    "class HeapBuilder:\n",
    "    def __init__(self):\n",
    "        self._swaps = []\n",
    "        self._data = []\n",
    "\n",
    "    def ReadData(self):\n",
    "        n = int(input())\n",
    "        self._data = [int(s) for s in input().split()]\n",
    "        assert n == len(self._data)\n",
    "\n",
    "    def WriteResponse(self):\n",
    "        print(len(self._swaps))\n",
    "        for swap in self._swaps:\n",
    "            print(swap[0], swap[1])\n",
    "\n",
    "\n",
    "    def GenerateSwapsOld(self):\n",
    "    # The following naive implementation just sorts \n",
    "    # the given sequence using selection sort algorithm\n",
    "    # and saves the resulting sequence of swaps.\n",
    "    # This turns the given array into a heap, \n",
    "    # but in the worst case gives a quadratic number of swaps.\n",
    "    #\n",
    "    # TODO: replace by a more efficient implementation\n",
    "        for i in range(len(self._data)):\n",
    "            for j in range(i + 1, len(self._data)):\n",
    "                if self._data[i] > self._data[j]:\n",
    "                    self._swaps.append((i, j))\n",
    "                    self._data[i], self._data[j] = self._data[j], self._data[i]\n",
    "\n",
    "    def GenerateSwaps(self):\n",
    "        end = len(self._data) - 1\n",
    "        start = HeapBuilder.Parent(end)\n",
    "        while start >= 0:\n",
    "            self.SiftDown(start, end)\n",
    "            start -= 1\n",
    "\n",
    "    def SiftDown(self, start, end):\n",
    "        left = HeapBuilder.LeftChild(start)\n",
    "        while left <= end:\n",
    "            swap = start\n",
    "            right = HeapBuilder.RightChild(start)\n",
    "            if self._data[swap] > self._data[left]:\n",
    "                swap = left\n",
    "\n",
    "            if right <= end and self._data[swap] > self._data[right]:\n",
    "                swap = right\n",
    "\n",
    "            if swap == start:\n",
    "                break\n",
    "            else:\n",
    "                self._swaps.append((start, swap))\n",
    "                self._data[swap], self._data[start] = self._data[start], self._data[swap]\n",
    "                start = swap\n",
    "                left = HeapBuilder.LeftChild(start)\n",
    "\n",
    "    def Parent(i):\n",
    "        return int((i - 1) / 2)\n",
    "\n",
    "    def LeftChild(i):\n",
    "        return 2 * i + 1\n",
    "    \n",
    "    def RightChild(i):\n",
    "        return 2 * i + 2\n",
    "\n",
    "    def Solve(self):\n",
    "        self.ReadData()\n",
    "        self.GenerateSwaps()\n",
    "        self.WriteResponse()\n",
    "\n",
    "if __name__ == '__main__':\n",
    "    heap_builder = HeapBuilder()\n",
    "    heap_builder.Solve()"
   ]
  }
 ],
 "metadata": {
  "kernelspec": {
   "display_name": "Python 3.10.0 64-bit",
   "language": "python",
   "name": "python3"
  },
  "language_info": {
   "codemirror_mode": {
    "name": "ipython",
    "version": 3
   },
   "file_extension": ".py",
   "mimetype": "text/x-python",
   "name": "python",
   "nbconvert_exporter": "python",
   "pygments_lexer": "ipython3",
   "version": "3.10.0"
  },
  "orig_nbformat": 4,
  "vscode": {
   "interpreter": {
    "hash": "49ed69d14c5bafd33dd9e3625d3b76637c4ab0eb3e78e730b1c53bf7385e46f6"
   }
  }
 },
 "nbformat": 4,
 "nbformat_minor": 2
}
