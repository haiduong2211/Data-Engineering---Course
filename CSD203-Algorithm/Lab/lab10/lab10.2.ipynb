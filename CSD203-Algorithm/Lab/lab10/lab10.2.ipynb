{
 "cells": [
  {
   "cell_type": "code",
   "execution_count": 5,
   "metadata": {},
   "outputs": [
    {
     "name": "stdout",
     "output_type": "stream",
     "text": [
      "[0, None, None, None, None] [0, None, None, None, None] [None, [1, 0], [0, 1]]\n",
      "[0, 1, None, None, None] [0, 0, None, None, None] [None, [0, 1], [1, 2]]\n",
      "[0, 1, 0, None, None] [0, 0, 1, None, None] [None, [1, 2], [0, 4]]\n",
      "[0, 1, 0, 1, None] [0, 0, 1, 2, None] [None, [0, 4], [1, 6]]\n",
      "[0, 1, 0, 1, 0] [0, 0, 1, 2, 4] [None, [1, 6], [0, 9]]\n",
      "0 0\n",
      "1 0\n",
      "0 1\n",
      "1 2\n",
      "0 4\n"
     ]
    }
   ],
   "source": [
    "# python3\n",
    "\n",
    "class JobQueue:\n",
    "    def read_data(self):\n",
    "        self.num_workers, m = map(int, input().split())\n",
    "        self.jobs = list(map(int, input().split()))\n",
    "        assert m == len(self.jobs)\n",
    "\n",
    "    def write_response(self):\n",
    "        for i in range(len(self.jobs)):\n",
    "            print(self.assigned_workers[i], self.start_times[i]) \n",
    "\n",
    "    def assign_jobs(self):\n",
    "        self.assigned_workers = [None] * len(self.jobs)\n",
    "        self.start_times = [None] * len(self.jobs)\n",
    "        self.nodes = [None] + [[x, 0] for x in range(self.num_workers)]#lưu trữ thông tin của worker\n",
    "        #self.nodes = [None, [0, 0], [1, 0]]\n",
    "\n",
    "        for i in range(len(self.jobs)):\n",
    "            self.assigned_workers[i] = self.nodes[1][0]\n",
    "            self.start_times[i] = self.nodes[1][1]\n",
    "            self.nodes[1][1] += self.jobs[i] #Update end times\n",
    "            self.SiftDown(1)\n",
    "            print(self.assigned_workers,self.start_times,self.nodes)\n",
    "\n",
    "    \n",
    "    def SiftDown(self, i):\n",
    "        min_i = i\n",
    "        left = 2 * i\n",
    "        right = 2 * i + 1\n",
    "        #Tìm node min ở dưới node hiện tại\n",
    "        if left <= len(self.nodes) - 1: #Nếu đây không phải là node left cuối cùng\n",
    "            if self.nodes[left][1] < self.nodes[min_i][1]:\n",
    "                min_i = left\n",
    "            elif self.nodes[left][1] == self.nodes[min_i][1] and self.nodes[left][0] < self.nodes[min_i][0]:\n",
    "                min_i = left\n",
    "\n",
    "        if right <= len(self.nodes) - 1: #Nếu đây đã là node right cuối cùng\n",
    "            if self.nodes[right][1] < self.nodes[min_i][1]:\n",
    "                min_i = right\n",
    "            elif self.nodes[right][1] == self.nodes[min_i][1] and self.nodes[right][0] < self.nodes[min_i][0]:\n",
    "                min_i = right\n",
    "\n",
    "        if i != min_i:\n",
    "            self.nodes[i], self.nodes[min_i] = self.nodes[min_i], self.nodes[i] #Đổi chỗ node min với node i hiện tại\n",
    "            self.SiftDown(min_i)\n",
    "\n",
    "    def solve(self):\n",
    "        self.read_data()\n",
    "        self.assign_jobs()\n",
    "        self.write_response()\n",
    "\n",
    "if __name__ == '__main__':\n",
    "    job_queue = JobQueue()\n",
    "    job_queue.solve()"
   ]
  }
 ],
 "metadata": {
  "kernelspec": {
   "display_name": "Python 3.10.0 64-bit",
   "language": "python",
   "name": "python3"
  },
  "language_info": {
   "codemirror_mode": {
    "name": "ipython",
    "version": 3
   },
   "file_extension": ".py",
   "mimetype": "text/x-python",
   "name": "python",
   "nbconvert_exporter": "python",
   "pygments_lexer": "ipython3",
   "version": "3.10.0"
  },
  "orig_nbformat": 4,
  "vscode": {
   "interpreter": {
    "hash": "49ed69d14c5bafd33dd9e3625d3b76637c4ab0eb3e78e730b1c53bf7385e46f6"
   }
  }
 },
 "nbformat": 4,
 "nbformat_minor": 2
}
