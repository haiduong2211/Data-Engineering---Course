{
 "cells": [
  {
   "cell_type": "code",
   "execution_count": 3,
   "metadata": {},
   "outputs": [
    {
     "name": "stdout",
     "output_type": "stream",
     "text": [
      "14\n"
     ]
    }
   ],
   "source": [
    "# Uses python3\n",
    "import sys\n",
    "\n",
    "def get_change(m):\n",
    "    #write your code here\n",
    "    A = []\n",
    "    coin = [10,5,1]\n",
    "    for i in coin:\n",
    "        while m >= i:\n",
    "            A.append(i)\n",
    "            m -=i\n",
    "            if m == 0:\n",
    "                break\n",
    "    return len(A)\n",
    "\n",
    "if __name__ == '__main__':\n",
    "    #m = int(sys.stdin.read())\n",
    "    m = int(input(\"Input\"))\n",
    "    print(get_change(m))"
   ]
  },
  {
   "cell_type": "code",
   "execution_count": 32,
   "metadata": {},
   "outputs": [
    {
     "name": "stdout",
     "output_type": "stream",
     "text": [
      "1\n"
     ]
    }
   ],
   "source": [
    "def get_change(m):\n",
    "    coins = [10,5,1]\n",
    "    countc = 0\n",
    "    remain = m\n",
    "    for c in coins:\n",
    "        while remain >= c and remain > 0:\n",
    "            countc += remain//c\n",
    "            remain = remain % c\n",
    "    return countc\n",
    "\n",
    "if __name__ == '__main__':\n",
    "    #m = int(sys.stdin.read())\n",
    "    m = int(input(\"Input\"))\n",
    "    print(get_change(m))"
   ]
  }
 ],
 "metadata": {
  "interpreter": {
   "hash": "49ed69d14c5bafd33dd9e3625d3b76637c4ab0eb3e78e730b1c53bf7385e46f6"
  },
  "kernelspec": {
   "display_name": "Python 3.10.0 64-bit",
   "language": "python",
   "name": "python3"
  },
  "language_info": {
   "codemirror_mode": {
    "name": "ipython",
    "version": 3
   },
   "file_extension": ".py",
   "mimetype": "text/x-python",
   "name": "python",
   "nbconvert_exporter": "python",
   "pygments_lexer": "ipython3",
   "version": "3.10.0"
  },
  "orig_nbformat": 4
 },
 "nbformat": 4,
 "nbformat_minor": 2
}
