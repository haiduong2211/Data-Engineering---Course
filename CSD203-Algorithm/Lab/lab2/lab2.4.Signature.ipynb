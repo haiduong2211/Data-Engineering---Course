{
 "cells": [
  {
   "cell_type": "code",
   "execution_count": 2,
   "metadata": {},
   "outputs": [
    {
     "name": "stdout",
     "output_type": "stream",
     "text": [
      "[Segment(start=1, end=3), Segment(start=2, end=5), Segment(start=3, end=6)]\n",
      "1\n",
      "3 "
     ]
    }
   ],
   "source": [
    "# Uses python3\n",
    "import sys\n",
    "from collections import namedtuple\n",
    "\n",
    "Segment = namedtuple('Segment', 'start end')\n",
    "\n",
    "def optimal_points(segments):\n",
    "    points = []\n",
    "    #write your code here\n",
    "    segments = sorted(segments,key=lambda x:x.end) #Sắp xếp theo key 'end' của segment\n",
    "\n",
    "\n",
    "    while len(segments) != 0:\n",
    "        segment = segments.pop(0)\n",
    "        point = segment.end\n",
    "        points.append(point)\n",
    "        for s in segments[:]: #Xóa những segment còn lại nếu thỏa điuề kiện nằm giữa start và end point\n",
    "            if s.start <= point <=s.end:\n",
    "                segments.remove(s) \n",
    "    return points\n",
    "\n",
    "if __name__ == '__main__':\n",
    "    #input = sys.stdin.read()\n",
    "    n, *data = map(int, input().split())\n",
    "    segments = list(map(lambda x: Segment(x[0], x[1]), zip(data[::2], data[1::2])))\n",
    "    print(segments)\n",
    "    points = optimal_points(segments)\n",
    "    print(len(points))\n",
    "    for p in points:\n",
    "        print(p, end=' ')"
   ]
  }
 ],
 "metadata": {
  "interpreter": {
   "hash": "49ed69d14c5bafd33dd9e3625d3b76637c4ab0eb3e78e730b1c53bf7385e46f6"
  },
  "kernelspec": {
   "display_name": "Python 3.10.0 64-bit",
   "language": "python",
   "name": "python3"
  },
  "language_info": {
   "codemirror_mode": {
    "name": "ipython",
    "version": 3
   },
   "file_extension": ".py",
   "mimetype": "text/x-python",
   "name": "python",
   "nbconvert_exporter": "python",
   "pygments_lexer": "ipython3",
   "version": "3.10.0"
  },
  "orig_nbformat": 4
 },
 "nbformat": 4,
 "nbformat_minor": 2
}
