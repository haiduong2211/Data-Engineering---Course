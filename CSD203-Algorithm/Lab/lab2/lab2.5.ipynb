{
 "cells": [
  {
   "cell_type": "code",
   "execution_count": 1,
   "metadata": {},
   "outputs": [
    {
     "name": "stdout",
     "output_type": "stream",
     "text": [
      "15\n",
      "1 2 3 4 5 6 7 8 9 10 11 12 13 14 18 "
     ]
    }
   ],
   "source": [
    "# Uses python3\n",
    "import sys\n",
    "\n",
    "def optimal_summands(n):\n",
    "    summands = []\n",
    "    currentkeo = 1\n",
    "    #write your code here\n",
    "    while n >= currentkeo: #Khi số kẹo còn lại nhiều hơn số viên kẹo đang phát cho 1 bé\n",
    "        if n/2 <= currentkeo: #Nếu số kẹo còn lại để chia cho bé sau buộc phẩi lớn hơn bé trước nên curentkẹo >=n/2 sẽ không chia được lần nữa\n",
    "            summands.append(n) #Cho hết kẹo còn lại cho bé cuối cùng\n",
    "            n = 0\n",
    "            break\n",
    "        else:\n",
    "            summands.append(currentkeo) #Còn chia được ít nhất 2 bé nữa nên chia tiếp\n",
    "            n -= currentkeo\n",
    "            currentkeo +=1\n",
    "    return summands\n",
    "\n",
    "if __name__ == '__main__':\n",
    "    #input = sys.stdin.read()\n",
    "    n = int(input())\n",
    "    summands = optimal_summands(n)\n",
    "    print(len(summands))\n",
    "    for x in summands:\n",
    "        print(x, end=' ')"
   ]
  }
 ],
 "metadata": {
  "interpreter": {
   "hash": "49ed69d14c5bafd33dd9e3625d3b76637c4ab0eb3e78e730b1c53bf7385e46f6"
  },
  "kernelspec": {
   "display_name": "Python 3.10.0 64-bit",
   "language": "python",
   "name": "python3"
  },
  "language_info": {
   "codemirror_mode": {
    "name": "ipython",
    "version": 3
   },
   "file_extension": ".py",
   "mimetype": "text/x-python",
   "name": "python",
   "nbconvert_exporter": "python",
   "pygments_lexer": "ipython3",
   "version": "3.10.0"
  },
  "orig_nbformat": 4
 },
 "nbformat": 4,
 "nbformat_minor": 2
}
