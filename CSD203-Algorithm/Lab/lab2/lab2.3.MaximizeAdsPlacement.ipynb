{
 "cells": [
  {
   "cell_type": "code",
   "execution_count": null,
   "metadata": {},
   "outputs": [],
   "source": [
    "#Uses python3\n",
    "\n",
    "import sys\n",
    "\n",
    "def max_dot_product(a, b):\n",
    "    #write your code here\n",
    "    a = sorted(a,reverse=True)\n",
    "    b = sorted(b,reverse=True)\n",
    "    print(a,\"\\n\",b)\n",
    "    res = 0\n",
    "    for i in range(len(a)):\n",
    "        res += a[i] * b[i]\n",
    "    return res\n",
    "\n",
    "if __name__ == '__main__':\n",
    "    #input = sys.stdin.read()\n",
    "    data = list(map(int,input().split()))\n",
    "    n = data[0]\n",
    "    a = data[1:(n + 1)]\n",
    "    b = data[(n + 1):]\n",
    "    print(max_dot_product(a, b))\n",
    "    "
   ]
  },
  {
   "cell_type": "code",
   "execution_count": 7,
   "metadata": {},
   "outputs": [
    {
     "name": "stdout",
     "output_type": "stream",
     "text": [
      "[3, 1, -5] \n",
      " [4, 1, -2]\n",
      "23\n"
     ]
    }
   ],
   "source": [
    "def max_dot_product(a, b):\n",
    "    c = 0\n",
    "    a = sorted(a,reverse=True)\n",
    "    b = sorted(b,reverse=True)\n",
    "\n",
    "    print(a,\"\\n\",b)\n",
    "    for i in range(len(a)):\n",
    "        c += int(a[i]*b[i])\n",
    "    return c \n",
    "        \n",
    "\n",
    "\n",
    "if __name__ == '__main__':\n",
    "    #input = sys.stdin.read()\n",
    "    data = list(map(int,input().split()))\n",
    "    n = data[0]\n",
    "    a = data[1:(n + 1)]\n",
    "    b = data[(n + 1):]\n",
    "    print(max_dot_product(a, b))"
   ]
  }
 ],
 "metadata": {
  "interpreter": {
   "hash": "49ed69d14c5bafd33dd9e3625d3b76637c4ab0eb3e78e730b1c53bf7385e46f6"
  },
  "kernelspec": {
   "display_name": "Python 3.10.0 64-bit",
   "language": "python",
   "name": "python3"
  },
  "language_info": {
   "codemirror_mode": {
    "name": "ipython",
    "version": 3
   },
   "file_extension": ".py",
   "mimetype": "text/x-python",
   "name": "python",
   "nbconvert_exporter": "python",
   "pygments_lexer": "ipython3",
   "version": "3.10.0"
  },
  "orig_nbformat": 4
 },
 "nbformat": 4,
 "nbformat_minor": 2
}
