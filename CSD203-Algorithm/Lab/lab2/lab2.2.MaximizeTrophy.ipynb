{
 "cells": [
  {
   "cell_type": "code",
   "execution_count": 1,
   "metadata": {},
   "outputs": [
    {
     "name": "stdout",
     "output_type": "stream",
     "text": [
      "180.0000\n"
     ]
    }
   ],
   "source": [
    "# Uses python3\n",
    "import sys\n",
    "#input\n",
    "'''3 50\n",
    "60 20\n",
    "100 50\n",
    "120 30'''\n",
    "\n",
    "def get_optimal_value(capacity, weights, values):\n",
    "    value = 0\n",
    "    truevalue = []\n",
    "    # write your code here\n",
    "    for i in range(len(values)):\n",
    "        truevalue.append(values[i]/weights[i])\n",
    "\n",
    "    while capacity != 0:\n",
    "        ihighvalue = truevalue.index(max(truevalue))\n",
    "        a = min(capacity,weights[ihighvalue])\n",
    "        value += a*truevalue[ihighvalue]\n",
    "        weights[ihighvalue] -=a\n",
    "        truevalue[ihighvalue] = 0\n",
    "        capacity -=a\n",
    "    return value\n",
    "\n",
    "\n",
    "if __name__ == \"__main__\":\n",
    "    data = list(map(int, input().split()))\n",
    "    n, capacity = data[0:2]\n",
    "    values = data[2:(2 * n + 2):2]\n",
    "    weights = data[3:(2 * n + 2):2]\n",
    "    opt_value = get_optimal_value(capacity, weights, values)\n",
    "    print(\"{:.4f}\".format(opt_value))"
   ]
  },
  {
   "cell_type": "code",
   "execution_count": 3,
   "metadata": {},
   "outputs": [
    {
     "name": "stdout",
     "output_type": "stream",
     "text": [
      "180.0000\n"
     ]
    }
   ],
   "source": [
    "def get_optimal_value(capacity,weights,values):\n",
    "    value = 0\n",
    "    truevalue = []\n",
    "    for i in range(len(values)):\n",
    "        truevalue.append(values[i]/weights[i])\n",
    "    \n",
    "    while capacity != 0:\n",
    "        ihighvalue = truevalue.index(max(truevalue))\n",
    "        a = min(weights[ihighvalue],capacity)\n",
    "        value += a*truevalue[ihighvalue]\n",
    "        weights[ihighvalue] -= a\n",
    "        capacity -= a\n",
    "        truevalue[ihighvalue] =0\n",
    "\n",
    "    return value\n",
    "\n",
    "if __name__ == \"__main__\":\n",
    "    input = '''3 50\n",
    "60 20\n",
    "100 50\n",
    "120 30'''\n",
    "    data = list(map(int, input.split()))\n",
    "    n, capacity = data[0:2]\n",
    "    values = data[2:(2 * n + 2):2]\n",
    "    weights = data[3:(2 * n + 2):2]\n",
    "    opt_value = get_optimal_value(capacity, weights, values)\n",
    "    print(\"{:.4f}\".format(opt_value))"
   ]
  }
 ],
 "metadata": {
  "interpreter": {
   "hash": "49ed69d14c5bafd33dd9e3625d3b76637c4ab0eb3e78e730b1c53bf7385e46f6"
  },
  "kernelspec": {
   "display_name": "Python 3.10.0 64-bit",
   "language": "python",
   "name": "python3"
  },
  "language_info": {
   "codemirror_mode": {
    "name": "ipython",
    "version": 3
   },
   "file_extension": ".py",
   "mimetype": "text/x-python",
   "name": "python",
   "nbconvert_exporter": "python",
   "pygments_lexer": "ipython3",
   "version": "3.10.0"
  },
  "orig_nbformat": 4
 },
 "nbformat": 4,
 "nbformat_minor": 2
}
