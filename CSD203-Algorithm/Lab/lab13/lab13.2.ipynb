{
 "cells": [
  {
   "cell_type": "code",
   "execution_count": null,
   "metadata": {},
   "outputs": [],
   "source": [
    "import sys\n",
    "import queue\n",
    "import collections\n",
    "\n",
    "class graph:\n",
    "    def __init__(self,gdict=None):\n",
    "        if gdict is None:\n",
    "            gdict = {}\n",
    "        self.gdict = gdict\n",
    "\n",
    "def bipartite(adj): # [[3], [4, 3], [3], [1, 2, 0], [1]]\n",
    "    visited = [False] * len(adj)\n",
    "    visited[0] = True\n",
    "\n",
    "    chart = [-1]*len(adj)\n",
    "    chart[0] = 0\n",
    "\n",
    "    queue = []\n",
    "    queue.append(0)\n",
    "\n",
    "    while queue: #BFS\n",
    "        v = queue.pop(0)\n",
    "        for u in adj[v]: #Trong ds liền kề của v (0) \n",
    "            if chart[u] == chart[v]: #Nếu giá trị so sánh = nhau thì là không bipartite\n",
    "                return 0\n",
    "            else:\n",
    "                if not visited[u]: #Nếu chưa visit (not False = True)\n",
    "                    visited[u] = True\n",
    "                    chart[u] = 1 - chart[v]\n",
    "                    queue.append(u)\n",
    "    return 1 \n",
    "\n",
    "\n",
    "if __name__ == '__main__':\n",
    "    input = sys.stdin.read()\n",
    "    data = list(map(int, input.split()))\n",
    "    n, m = data[0:2]\n",
    "    data = data[2:]\n",
    "    edges = list(zip(data[0:(2 * m):2], data[1:(2 * m):2]))\n",
    "    adj = [[] for _ in range(n)]\n",
    "    for (a, b) in edges:\n",
    "        adj[a - 1].append(b - 1)\n",
    "        adj[b - 1].append(a - 1)\n",
    "    print(bipartite(adj))"
   ]
  }
 ],
 "metadata": {
  "kernelspec": {
   "display_name": "Python 3.10.0 64-bit",
   "language": "python",
   "name": "python3"
  },
  "language_info": {
   "name": "python",
   "version": "3.10.0"
  },
  "orig_nbformat": 4,
  "vscode": {
   "interpreter": {
    "hash": "49ed69d14c5bafd33dd9e3625d3b76637c4ab0eb3e78e730b1c53bf7385e46f6"
   }
  }
 },
 "nbformat": 4,
 "nbformat_minor": 2
}
