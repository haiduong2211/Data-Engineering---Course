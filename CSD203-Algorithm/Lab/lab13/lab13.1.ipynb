{
 "cells": [
  {
   "cell_type": "code",
   "execution_count": null,
   "metadata": {},
   "outputs": [],
   "source": [
    "import sys\n",
    "import queue\n",
    "\n",
    "def distance(adj, s, t):\n",
    "    #write your code here\n",
    "    n = len(adj)\n",
    "    queue = []\n",
    "    visited = set()\n",
    "    path = []\n",
    "\n",
    "    queue.append([s])\n",
    "    dist = 0\n",
    "    while queue: #BFS\n",
    "        path = queue.pop(0)\n",
    "        last_vertex  = path[-1]\n",
    "        if last_vertex == t:\n",
    "            dist = len(path) - 1\n",
    "        elif last_vertex not in visited:\n",
    "            for w in adj[last_vertex]:\n",
    "                new_path = list(path)\n",
    "                new_path.append(w)\n",
    "                queue.append(new_path)\n",
    "            visited.add(last_vertex)\n",
    "        print(path)\n",
    "        print(dist)\n",
    "        print(\"\\n\")\n",
    "\n",
    "    if dist != 0:\n",
    "        return dist\n",
    "    else:\n",
    "        return -1\n",
    "\n",
    "if __name__ == '__main__':\n",
    "    input = sys.stdin.read()\n",
    "    data = list(map(int, input.split()))\n",
    "    n, m = data[0:2]\n",
    "    data = data[2:]\n",
    "    edges = list(zip(data[0:(2 * m):2], data[1:(2 * m):2]))\n",
    "    adj = [[] for _ in range(n)]\n",
    "    for (a, b) in edges:\n",
    "        adj[a - 1].append(b - 1)\n",
    "        adj[b - 1].append(a - 1)\n",
    "    s, t = data[2 * m] - 1, data[2 * m + 1] - 1\n",
    "    print(distance(adj, s, t))"
   ]
  }
 ],
 "metadata": {
  "kernelspec": {
   "display_name": "Python 3.10.0 64-bit",
   "language": "python",
   "name": "python3"
  },
  "language_info": {
   "codemirror_mode": {
    "name": "ipython",
    "version": 3
   },
   "file_extension": ".py",
   "mimetype": "text/x-python",
   "name": "python",
   "nbconvert_exporter": "python",
   "pygments_lexer": "ipython3",
   "version": "3.10.0"
  },
  "orig_nbformat": 4,
  "vscode": {
   "interpreter": {
    "hash": "49ed69d14c5bafd33dd9e3625d3b76637c4ab0eb3e78e730b1c53bf7385e46f6"
   }
  }
 },
 "nbformat": 4,
 "nbformat_minor": 2
}
