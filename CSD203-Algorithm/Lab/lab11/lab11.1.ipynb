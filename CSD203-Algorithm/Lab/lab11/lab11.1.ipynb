{
 "cells": [
  {
   "cell_type": "code",
   "execution_count": 1,
   "metadata": {},
   "outputs": [
    {
     "name": "stdout",
     "output_type": "stream",
     "text": [
      "Mom\\\n",
      "not found\n",
      "police\n",
      "not found\n",
      "Mom\\\n",
      "daddy\n"
     ]
    }
   ],
   "source": [
    "# python3\n",
    "\n",
    "class Query:\n",
    "    def __init__(self, query):\n",
    "        self.type = query[0]\n",
    "        self.number = int(query[1])\n",
    "        if self.type == 'add':\n",
    "            self.name = query[2]\n",
    "\n",
    "def read_queries():\n",
    "    n = int(input())\n",
    "    return [Query(input().split()) for i in range(n)]\n",
    "\n",
    "def write_responses(result):\n",
    "    print('\\n'.join(result))\n",
    "\n",
    "def process_queries(queries):\n",
    "    result = []\n",
    "    contacts = []\n",
    "    for cur_query in queries:\n",
    "        if cur_query.type == 'add':\n",
    "            # Đổi tên nếu number này đã tồn tại\n",
    "            for contact in contacts:\n",
    "                if contact.number == cur_query.number:\n",
    "                    contact.name = cur_query.name\n",
    "                    break\n",
    "            else: #Nếu không tồn tại thì add thêm vào list\n",
    "                contacts.append(cur_query)\n",
    "        elif cur_query.type == 'del': \n",
    "            for j in range(len(contacts)):\n",
    "                if contacts[j].number == cur_query.number:\n",
    "                    contacts.pop(j)\n",
    "                    break\n",
    "        else:\n",
    "            response = 'not found'\n",
    "            for contact in contacts:\n",
    "                if contact.number == cur_query.number:\n",
    "                    response = contact.name\n",
    "                    break\n",
    "            result.append(response)\n",
    "    return result\n",
    "\n",
    "if __name__ == '__main__':\n",
    "    write_responses(process_queries(read_queries()))"
   ]
  }
 ],
 "metadata": {
  "kernelspec": {
   "display_name": "Python 3.10.0 64-bit",
   "language": "python",
   "name": "python3"
  },
  "language_info": {
   "codemirror_mode": {
    "name": "ipython",
    "version": 3
   },
   "file_extension": ".py",
   "mimetype": "text/x-python",
   "name": "python",
   "nbconvert_exporter": "python",
   "pygments_lexer": "ipython3",
   "version": "3.10.0"
  },
  "orig_nbformat": 4,
  "vscode": {
   "interpreter": {
    "hash": "49ed69d14c5bafd33dd9e3625d3b76637c4ab0eb3e78e730b1c53bf7385e46f6"
   }
  }
 },
 "nbformat": 4,
 "nbformat_minor": 2
}
