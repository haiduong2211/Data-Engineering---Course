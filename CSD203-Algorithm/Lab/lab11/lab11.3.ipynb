{
 "cells": [
  {
   "cell_type": "code",
   "execution_count": 1,
   "metadata": {},
   "outputs": [
    {
     "name": "stdout",
     "output_type": "stream",
     "text": [
      "4\n"
     ]
    }
   ],
   "source": [
    "def read_input():\n",
    "    return (input().rstrip(), input().rstrip())\n",
    "\n",
    "def print_occurrences(output):\n",
    "    print(' '.join(map(str, output)))\n",
    "\n",
    "def get_occurrences(pattern, text):\n",
    "    return [\n",
    "        i \n",
    "        for i in range(len(text) - len(pattern) + 1) \n",
    "        if text[i:i + len(pattern)] == pattern\n",
    "    ]\n",
    "\n",
    "if __name__ == '__main__':\n",
    "    print_occurrences(get_occurrences(*read_input()))\n"
   ]
  },
  {
   "cell_type": "code",
   "execution_count": 3,
   "metadata": {},
   "outputs": [
    {
     "name": "stdout",
     "output_type": "stream",
     "text": [
      "Pattern found at index 0\n",
      "Pattern found at index 4\n"
     ]
    }
   ],
   "source": [
    "d = 256\n",
    "q = 101\n",
    "\n",
    "def RabinKarp(pat, txt, q):\n",
    "    M = len(pat)\n",
    "    N = len(txt)\n",
    "    i = 0\n",
    "    j = 0\n",
    "    p = 0\n",
    "    t = 0 \n",
    "    h = 1\n",
    "  \n",
    "    for i in range(M-1):\n",
    "        h = (h*d)%q\n",
    "  \n",
    "    for i in range(M):\n",
    "        p = (d*p + ord(pat[i]))%q\n",
    "        t = (d*t + ord(txt[i]))%q\n",
    "  \n",
    "    for i in range(N-M+1):\n",
    "        if p==t:\n",
    "            for j in range(M):\n",
    "                if txt[i+j] != pat[j]:\n",
    "                    break\n",
    "                else: j+=1\n",
    "            # if p == t and pat[0...M-1] = txt[i, i+1, ...i+M-1]\n",
    "            if j==M:\n",
    "                print (\"Pattern found at index \" + str(i))\n",
    "  \n",
    "        if i < N-M:\n",
    "            t = (d*(t-ord(txt[i])*h) + ord(txt[i+M]))%q\n",
    "            # We might get negative values of t, converting it to positive\n",
    "            if t < 0:\n",
    "                t = t+q\n",
    "\n",
    "RabinKarp(input(\"pattern\"),input(\"txt\"),q)"
   ]
  }
 ],
 "metadata": {
  "kernelspec": {
   "display_name": "Python 3.10.0 64-bit",
   "language": "python",
   "name": "python3"
  },
  "language_info": {
   "codemirror_mode": {
    "name": "ipython",
    "version": 3
   },
   "file_extension": ".py",
   "mimetype": "text/x-python",
   "name": "python",
   "nbconvert_exporter": "python",
   "pygments_lexer": "ipython3",
   "version": "3.10.0"
  },
  "orig_nbformat": 4,
  "vscode": {
   "interpreter": {
    "hash": "49ed69d14c5bafd33dd9e3625d3b76637c4ab0eb3e78e730b1c53bf7385e46f6"
   }
  }
 },
 "nbformat": 4,
 "nbformat_minor": 2
}
