{
 "cells": [
  {
   "cell_type": "code",
   "execution_count": 1,
   "metadata": {},
   "outputs": [
    {
     "name": "stdout",
     "output_type": "stream",
     "text": [
      "HellO world\n",
      "no\n",
      "yes\n",
      "HellO\n",
      "GooD luck\n"
     ]
    }
   ],
   "source": [
    "#Lab 11.2 - Hashing (Băm) với chain (chuỗi)\n",
    "\n",
    "class Query:\n",
    "    def __init__(self, query):\n",
    "        self.type = query[0]\n",
    "        if self.type == 'check':\n",
    "            self.ind = int(query[1])\n",
    "        else:\n",
    "            self.s = query[1]\n",
    "\n",
    "\n",
    "class QueryProcessor:\n",
    "    _multiplier = 263\n",
    "    _prime = 1000000007\n",
    "\n",
    "    def __init__(self, bucket_count):\n",
    "        self.bucket_count = bucket_count\n",
    "        #Lưu dữ liệu vào 1 list\n",
    "        self.elems = []\n",
    "\n",
    "    def _hash_func(self, s):\n",
    "        ans = 0\n",
    "        for c in reversed(s):\n",
    "            ans = (ans * self._multiplier + ord(c)) % self._prime\n",
    "        return ans % self.bucket_count\n",
    "\n",
    "    def write_chain(self, chain):\n",
    "        print(' '.join(chain))\n",
    "\n",
    "    def read_query(self):\n",
    "        return Query(input().split())\n",
    "\n",
    "    def process_query(self, query):\n",
    "        if query.type == \"check\":\n",
    "            #reversed vì chèn vào cuối chain chứ không phải đầu như đề bài yêu cầu\n",
    "            self.write_chain(cur for cur in reversed(self.elems)\n",
    "                                if self._hash_func(cur) == query.ind)\n",
    "        else:\n",
    "            try: #nếu string này có trong list rồi thì trả về giá trị index\n",
    "                ind = self.elems.index(query.s)\n",
    "            except ValueError:\n",
    "                ind = -1\n",
    "            if query.type == 'find':\n",
    "                if ind != -1:\n",
    "                    print('yes')\n",
    "                else:\n",
    "                    print('no')\n",
    "            elif query.type == 'add':\n",
    "                if ind == -1: #Nếu không có ind trong query thì có thể thêm nó vào\n",
    "                    self.elems.append(query.s)\n",
    "            else:\n",
    "                if ind != -1: #nếu không có \n",
    "                    self.elems.pop(ind)\n",
    "\n",
    "    def process_queries(self):\n",
    "        n = int(input())\n",
    "        for i in range(n):\n",
    "            self.process_query(self.read_query())\n",
    "\n",
    "if __name__ == '__main__':\n",
    "    bucket_count = int(input())\n",
    "    proc = QueryProcessor(bucket_count)\n",
    "    proc.process_queries()"
   ]
  }
 ],
 "metadata": {
  "kernelspec": {
   "display_name": "Python 3.10.0 64-bit",
   "language": "python",
   "name": "python3"
  },
  "language_info": {
   "codemirror_mode": {
    "name": "ipython",
    "version": 3
   },
   "file_extension": ".py",
   "mimetype": "text/x-python",
   "name": "python",
   "nbconvert_exporter": "python",
   "pygments_lexer": "ipython3",
   "version": "3.10.0"
  },
  "orig_nbformat": 4,
  "vscode": {
   "interpreter": {
    "hash": "49ed69d14c5bafd33dd9e3625d3b76637c4ab0eb3e78e730b1c53bf7385e46f6"
   }
  }
 },
 "nbformat": 4,
 "nbformat_minor": 2
}
