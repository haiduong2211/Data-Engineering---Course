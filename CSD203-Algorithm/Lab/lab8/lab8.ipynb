{
 "cells": [
  {
   "cell_type": "code",
   "execution_count": 1,
   "metadata": {},
   "outputs": [],
   "source": [
    "# python3\n",
    "\n",
    "import sys, threading\n",
    "sys.setrecursionlimit(10**7) # max depth of recursion\n",
    "threading.stack_size(2**27)  # new thread will get stack of such size\n",
    "\n",
    "class TreeHeight:\n",
    "        def read(self):\n",
    "                self.n = int(sys.stdin.readline())\n",
    "                self.parent = list(map(int, sys.stdin.readline().split()))\n",
    "\n",
    "        def compute_height(self):\n",
    "                # Replace this code with a faster implementation\n",
    "                maxHeight = 0\n",
    "                for vertex in range(self.n):\n",
    "                        height = 0\n",
    "                        i = vertex\n",
    "                        while i != -1:\n",
    "                                height += 1\n",
    "                                i = self.parent[i]\n",
    "                        maxHeight = max(maxHeight, height)\n",
    "                return maxHeight\n",
    "\n",
    "def main():\n",
    "  tree = TreeHeight()\n",
    "  tree.read()\n",
    "  print(tree.compute_height())\n",
    "\n",
    "threading.Thread(target=main).start()"
   ]
  },
  {
   "cell_type": "code",
   "execution_count": 4,
   "metadata": {},
   "outputs": [
    {
     "name": "stdout",
     "output_type": "stream",
     "text": [
      "3\n"
     ]
    }
   ],
   "source": [
    "# python3\n",
    "\n",
    "import sys, threading\n",
    "sys.setrecursionlimit(10**7) # max depth of recursion\n",
    "threading.stack_size(2**27)  # new thread will get stack of such size\n",
    "\n",
    "class TreeHeight:\n",
    "        def read(self):\n",
    "                self.n = 5\n",
    "                self.parent = [4,-1,4,1,1]\n",
    "\n",
    "        def compute_height(self):\n",
    "                # Replace this code with a faster implementation\n",
    "            maxHeight = 0\n",
    "            for vertex in range(self.n):\n",
    "                    height = 0\n",
    "                    i = vertex\n",
    "                    while i != -1:\n",
    "                            height += 1\n",
    "                            i = self.parent[i]\n",
    "                    maxHeight = max(maxHeight, height)\n",
    "            return maxHeight\n",
    "        def compute(self):\n",
    "            height = [None for _ in self.parent]\n",
    "            todo = list(range(self.n))\n",
    "            while 0 < len(todo):\n",
    "                    node = todo.pop()\n",
    "                    if self.parent[node] == -1:\n",
    "                            height[node] = 1\n",
    "                    elif height[node] is None:\n",
    "                            if height[self.parent[node]] is None:\n",
    "                                    todo.append(node)\n",
    "                                    todo.append(self.parent[node])\n",
    "                            else:\n",
    "                                    height[node] = height[self.parent[node]] +1\n",
    "            return max(height)\n",
    "\n",
    "def main():\n",
    "    tree = TreeHeight()\n",
    "    tree.read()\n",
    "    print(tree.compute_height())\n",
    "\n",
    "threading.Thread(target=main).start()\n"
   ]
  }
 ],
 "metadata": {
  "kernelspec": {
   "display_name": "Python 3.10.0 64-bit",
   "language": "python",
   "name": "python3"
  },
  "language_info": {
   "codemirror_mode": {
    "name": "ipython",
    "version": 3
   },
   "file_extension": ".py",
   "mimetype": "text/x-python",
   "name": "python",
   "nbconvert_exporter": "python",
   "pygments_lexer": "ipython3",
   "version": "3.10.0"
  },
  "orig_nbformat": 4,
  "vscode": {
   "interpreter": {
    "hash": "49ed69d14c5bafd33dd9e3625d3b76637c4ab0eb3e78e730b1c53bf7385e46f6"
   }
  }
 },
 "nbformat": 4,
 "nbformat_minor": 2
}
