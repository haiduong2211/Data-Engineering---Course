{
 "cells": [
  {
   "cell_type": "code",
   "execution_count": 3,
   "metadata": {},
   "outputs": [
    {
     "name": "stdout",
     "output_type": "stream",
     "text": [
      "9\n"
     ]
    }
   ],
   "source": [
    "#Lấy nhiều vàng nhất có thể\n",
    "\n",
    "import sys\n",
    "def optimal_weight(W, w, n):\n",
    "    # write your code here\n",
    "    # Base case\n",
    "    if n == 0 or W == 0:\n",
    "        return 0\n",
    "    if w[n-1] > W:\n",
    "        return optimal_weight(W,w,n-1)\n",
    "    \n",
    "    return max(optimal_weight(W-w[n-1],w,n-1) + w[n-1],optimal_weight(W,w,n-1)) #Max của optimal_weight khi không lấy hoặc lấy giá trị W[n-1]\n",
    "\n",
    "    \n",
    "if __name__ == '__main__':\n",
    "    W = 10\n",
    "    n = 3\n",
    "    w = [1,4,8]\n",
    "    print(optimal_weight(W, w,len(w)))"
   ]
  },
  {
   "cell_type": "code",
   "execution_count": null,
   "metadata": {},
   "outputs": [],
   "source": []
  }
 ],
 "metadata": {
  "interpreter": {
   "hash": "49ed69d14c5bafd33dd9e3625d3b76637c4ab0eb3e78e730b1c53bf7385e46f6"
  },
  "kernelspec": {
   "display_name": "Python 3.10.0 64-bit",
   "language": "python",
   "name": "python3"
  },
  "language_info": {
   "codemirror_mode": {
    "name": "ipython",
    "version": 3
   },
   "file_extension": ".py",
   "mimetype": "text/x-python",
   "name": "python",
   "nbconvert_exporter": "python",
   "pygments_lexer": "ipython3",
   "version": "3.10.0"
  },
  "orig_nbformat": 4
 },
 "nbformat": 4,
 "nbformat_minor": 2
}
