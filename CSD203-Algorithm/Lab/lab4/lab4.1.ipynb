{
 "cells": [
  {
   "cell_type": "code",
   "execution_count": 1,
   "metadata": {},
   "outputs": [
    {
     "name": "stdout",
     "output_type": "stream",
     "text": [
      "[0, 1, 1, 2, 3]\n",
      "3\n",
      "1 2 4 5 "
     ]
    }
   ],
   "source": [
    "#Bottom-Up\n",
    "import sys\n",
    "\n",
    "def optimal_sequence(n):\n",
    "    sequence = []\n",
    "    '''\n",
    "    while n >= 1:\n",
    "        sequence.append(n)\n",
    "        if n % 3 == 0:\n",
    "            n = n // 3\n",
    "        elif n % 2 == 0:\n",
    "            n = n // 2\n",
    "        else:\n",
    "            n = n - 1\n",
    "    '''\n",
    "    optimalnum = DPoptimal(n)\n",
    "    while n >= 1:\n",
    "        sequence.append(n)\n",
    "        if n % 3 == 0 and optimalnum[n-1] == optimalnum[n // 3 -1] + 1:\n",
    "            n = n // 3\n",
    "        elif n % 2 == 0 and optimalnum[n-1] == optimalnum[n // 2 -1] + 1:\n",
    "            n = n // 2\n",
    "        else:\n",
    "            n -= 1\n",
    "    return reversed(sequence)\n",
    "\n",
    "def DPoptimal(n): #Hàm quy hoạch động trả về một list số bước để đến được vị trí trong list\n",
    "    optimalnum =n * [0]\n",
    "    for i in range(2, n+1):\n",
    "        n1, n2, n3 = -1, -1, -1\n",
    "        if i % 3 == 0:\n",
    "            n3 = optimalnum[i // 3 - 1]\n",
    "        if i % 2 == 0:\n",
    "            n2 = optimalnum[i // 2 - 1]\n",
    "        n1 = optimalnum[i - 1 - 1]\n",
    "        optimalnum[i - 1] = findmin(n3, n2, n1) + 1\n",
    "    return optimalnum\n",
    "\n",
    "def findmin(a, b, c):\n",
    "    if a == -1:\n",
    "        return findmin(c + 1, b, c)\n",
    "    if b == -1:\n",
    "        return findmin(a, c + 1, c)\n",
    "    return min(a, b, c)\n",
    "\n",
    "\n",
    "n = int(input())\n",
    "sequence = list(optimal_sequence(n))\n",
    "print(len(sequence) - 1)\n",
    "for x in sequence:\n",
    "    print(x, end=' ')"
   ]
  },
  {
   "cell_type": "code",
   "execution_count": 7,
   "metadata": {},
   "outputs": [
    {
     "ename": "TypeError",
     "evalue": "'int' object is not callable",
     "output_type": "error",
     "traceback": [
      "\u001b[1;31m---------------------------------------------------------------------------\u001b[0m",
      "\u001b[1;31mTypeError\u001b[0m                                 Traceback (most recent call last)",
      "\u001b[1;32mc:\\Users\\Duong Nguyen\\Desktop\\DE\\Algorithm\\Lab\\lab4\\lab4.1.ipynb Cell 2\u001b[0m in \u001b[0;36m<cell line: 28>\u001b[1;34m()\u001b[0m\n\u001b[0;32m     <a href='vscode-notebook-cell:/c%3A/Users/Duong%20Nguyen/Desktop/DE/Algorithm/Lab/lab4/lab4.1.ipynb#ch0000001?line=22'>23</a>\u001b[0m             n \u001b[39m=\u001b[39m n \u001b[39m/\u001b[39m\u001b[39m/\u001b[39m \u001b[39m3\u001b[39m\n\u001b[0;32m     <a href='vscode-notebook-cell:/c%3A/Users/Duong%20Nguyen/Desktop/DE/Algorithm/Lab/lab4/lab4.1.ipynb#ch0000001?line=24'>25</a>\u001b[0m     \u001b[39mreturn\u001b[39;00m \u001b[39mreversed\u001b[39m(sequence)\n\u001b[1;32m---> <a href='vscode-notebook-cell:/c%3A/Users/Duong%20Nguyen/Desktop/DE/Algorithm/Lab/lab4/lab4.1.ipynb#ch0000001?line=27'>28</a>\u001b[0m \u001b[39minput\u001b[39m \u001b[39m=\u001b[39m \u001b[39minput\u001b[39;49m()\n\u001b[0;32m     <a href='vscode-notebook-cell:/c%3A/Users/Duong%20Nguyen/Desktop/DE/Algorithm/Lab/lab4/lab4.1.ipynb#ch0000001?line=28'>29</a>\u001b[0m n \u001b[39m=\u001b[39m \u001b[39mint\u001b[39m(\u001b[39minput\u001b[39m)\n\u001b[0;32m     <a href='vscode-notebook-cell:/c%3A/Users/Duong%20Nguyen/Desktop/DE/Algorithm/Lab/lab4/lab4.1.ipynb#ch0000001?line=29'>30</a>\u001b[0m sequence \u001b[39m=\u001b[39m \u001b[39mlist\u001b[39m(optimal_sequence(n))\n",
      "\u001b[1;31mTypeError\u001b[0m: 'int' object is not callable"
     ]
    }
   ],
   "source": [
    "# Uses python3\n",
    "import sys\n",
    "\n",
    "\n",
    "def optimal_sequence(n):\n",
    "    sequence = []\n",
    "\n",
    "    arr = [0] * (n + 1)\n",
    "    for i in range(1, n + 1):\n",
    "        arr[i] = arr[i - 1] + 1\n",
    "        if i % 2 == 0:\n",
    "            arr[i] = min(arr[i // 2] + 1, arr[i])\n",
    "        if i % 3 == 0:\n",
    "            arr[i] = min(arr[i // 3] + 1, arr[i])\n",
    "\n",
    "    while n >= 1:\n",
    "        sequence.append(n)\n",
    "        if arr[n] == arr[n - 1] + 1:\n",
    "            n = n - 1\n",
    "        elif n % 2 == 0 and arr[n // 2] == arr[n] - 1:\n",
    "            n = n // 2\n",
    "        elif n % 3 == 0 and arr[n // 3] == arr[n] - 1:\n",
    "            n = n // 3\n",
    "\n",
    "    return reversed(sequence)\n",
    "\n",
    "\n",
    "input = input()\n",
    "n = int(input)\n",
    "sequence = list(optimal_sequence(n))\n",
    "print(len(sequence) - 1)\n",
    "for x in sequence:\n",
    "    print(x, end=' ')"
   ]
  }
 ],
 "metadata": {
  "interpreter": {
   "hash": "49ed69d14c5bafd33dd9e3625d3b76637c4ab0eb3e78e730b1c53bf7385e46f6"
  },
  "kernelspec": {
   "display_name": "Python 3.10.0 64-bit",
   "language": "python",
   "name": "python3"
  },
  "language_info": {
   "codemirror_mode": {
    "name": "ipython",
    "version": 3
   },
   "file_extension": ".py",
   "mimetype": "text/x-python",
   "name": "python",
   "nbconvert_exporter": "python",
   "pygments_lexer": "ipython3",
   "version": "3.10.0"
  },
  "orig_nbformat": 4
 },
 "nbformat": 4,
 "nbformat_minor": 2
}
