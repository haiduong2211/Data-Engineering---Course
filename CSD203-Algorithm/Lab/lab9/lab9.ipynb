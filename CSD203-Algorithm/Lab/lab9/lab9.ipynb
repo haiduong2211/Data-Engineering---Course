{
 "cells": [
  {
   "cell_type": "code",
   "execution_count": 2,
   "metadata": {},
   "outputs": [
    {
     "name": "stderr",
     "output_type": "stream",
     "text": [
      "Exception in thread Thread-4 (main):\n",
      "Traceback (most recent call last):\n",
      "  File \"c:\\Users\\Duong Nguyen\\AppData\\Local\\Programs\\Python\\Python310\\lib\\threading.py\", line 1009, in _bootstrap_inner\n",
      "    self.run()\n",
      "  File \"c:\\Users\\Duong Nguyen\\AppData\\Local\\Programs\\Python\\Python310\\lib\\threading.py\", line 946, in run\n",
      "    self._target(*self._args, **self._kwargs)\n",
      "  File \"C:\\Users\\Duong Nguyen\\AppData\\Local\\Temp\\ipykernel_12772\\3459386658.py\", line 78, in main\n",
      "  File \"C:\\Users\\Duong Nguyen\\AppData\\Local\\Temp\\ipykernel_12772\\3459386658.py\", line 21, in read\n",
      "TypeError: 'str' object cannot be interpreted as an integer\n"
     ]
    }
   ],
   "source": [
    "import sys, threading\n",
    "sys.setrecursionlimit(10**6) # max depth of recursion\n",
    "threading.stack_size(2**27)  # new thread will get stack of such size\n",
    "\n",
    "class TreeOrders:\n",
    "  def read(self):\n",
    "    self.n = int(sys.stdin.readline())\n",
    "    self.key = [0 for i in range(self.n)]\n",
    "    self.left = [0 for i in range(self.n)]\n",
    "    self.right = [0 for i in range(self.n)]\n",
    "    for i in range(self.n):\n",
    "      [a, b, c] = map(int, sys.stdin.readline().split())\n",
    "      self.key[i] = a\n",
    "      self.left[i] = b\n",
    "      self.right[i] = c\n",
    "\n",
    "  def inOrder(self):\n",
    "    self.result = []\n",
    "    # Finish the implementation\n",
    "    # You may need to add a new recursive method to do that\n",
    "                \n",
    "    return self.result\n",
    "\n",
    "  def preOrder(self):\n",
    "    self.result = []\n",
    "    # Finish the implementation\n",
    "    # You may need to add a new recursive method to do that\n",
    "                \n",
    "    return self.result\n",
    "\n",
    "  def postOrder(self):\n",
    "    self.result = []\n",
    "    # Finish the implementation\n",
    "    # You may need to add a new recursive method to do that\n",
    "                \n",
    "    return self.result\n",
    "\n",
    "def main():\n",
    "\ttree = TreeOrders()\n",
    "\ttree.read()\n",
    "\tprint(\" \".join(str(x) for x in tree.inOrder()))\n",
    "\tprint(\" \".join(str(x) for x in tree.preOrder()))\n",
    "\tprint(\" \".join(str(x) for x in tree.postOrder()))\n",
    "\n",
    "threading.Thread(target=main).start()"
   ]
  }
 ],
 "metadata": {
  "kernelspec": {
   "display_name": "Python 3.10.0 64-bit",
   "language": "python",
   "name": "python3"
  },
  "language_info": {
   "codemirror_mode": {
    "name": "ipython",
    "version": 3
   },
   "file_extension": ".py",
   "mimetype": "text/x-python",
   "name": "python",
   "nbconvert_exporter": "python",
   "pygments_lexer": "ipython3",
   "version": "3.10.0"
  },
  "orig_nbformat": 4,
  "vscode": {
   "interpreter": {
    "hash": "49ed69d14c5bafd33dd9e3625d3b76637c4ab0eb3e78e730b1c53bf7385e46f6"
   }
  }
 },
 "nbformat": 4,
 "nbformat_minor": 2
}
