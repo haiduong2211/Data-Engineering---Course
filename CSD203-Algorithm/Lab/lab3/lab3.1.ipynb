{
 "cells": [
  {
   "cell_type": "code",
   "execution_count": 1,
   "metadata": {},
   "outputs": [
    {
     "name": "stdout",
     "output_type": "stream",
     "text": [
      "2 0 -1 0 -1 "
     ]
    }
   ],
   "source": [
    "# Uses python3\n",
    "import sys\n",
    "\n",
    "def binary_search(a, x):\n",
    "    left, right = 0, len(a)\n",
    "    if left == right:\n",
    "        return -1\n",
    "    mid = int(round(right/2,0))\n",
    "\n",
    "    if a[mid] == x:\n",
    "        return mid\n",
    "    elif x < a[mid]:\n",
    "        return binary_search(a[:mid],x)\n",
    "    else: \n",
    "        return binary_search(a[mid+1:],x) \n",
    "        \n",
    "def linear_search(a, x):\n",
    "    for i in range(len(a)):\n",
    "        if a[i] == x:\n",
    "            return i\n",
    "    return -1\n",
    "\n",
    "if __name__ == '__main__':\n",
    "    input = \"5 1 5 8 12 13 5 8 1 23 1 11\"\n",
    "    data = list(map(int, input.split()))\n",
    "    n = data[0]\n",
    "    m = data[n + 1]\n",
    "    a = data[1 : n + 1]\n",
    "\n",
    "    for x in data[n + 2:]:\n",
    "        # replace with the call to binary_search when implemented\n",
    "        print(binary_search(a,x), end = ' ')\n",
    "        #print(linear_search(a, x), end = ' ')"
   ]
  }
 ],
 "metadata": {
  "interpreter": {
   "hash": "49ed69d14c5bafd33dd9e3625d3b76637c4ab0eb3e78e730b1c53bf7385e46f6"
  },
  "kernelspec": {
   "display_name": "Python 3.10.0 64-bit",
   "language": "python",
   "name": "python3"
  },
  "language_info": {
   "codemirror_mode": {
    "name": "ipython",
    "version": 3
   },
   "file_extension": ".py",
   "mimetype": "text/x-python",
   "name": "python",
   "nbconvert_exporter": "python",
   "pygments_lexer": "ipython3",
   "version": "3.10.0"
  },
  "orig_nbformat": 4
 },
 "nbformat": 4,
 "nbformat_minor": 2
}
