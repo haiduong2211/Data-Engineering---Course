{
 "cells": [
  {
   "cell_type": "code",
   "execution_count": 11,
   "metadata": {},
   "outputs": [
    {
     "name": "stdout",
     "output_type": "stream",
     "text": [
      "success\n"
     ]
    }
   ],
   "source": [
    "# python3\n",
    "import sys\n",
    "\n",
    "class Bracket:\n",
    "    def __init__(self, bracket_type, position):\n",
    "        self.bracket_type = bracket_type\n",
    "        self.position = position\n",
    "\n",
    "    def Match(self, c):\n",
    "        if self.bracket_type == '[' and c == ']':\n",
    "            return True\n",
    "        if self.bracket_type == '{' and c == '}':\n",
    "            return True\n",
    "        if self.bracket_type == '(' and c == ')':\n",
    "            return True\n",
    "        return False\n",
    "\n",
    "if __name__ == \"__main__\":\n",
    "    text = input()\n",
    "    notfail = True\n",
    "    opening_brackets_stack = []\n",
    "    for i, next in enumerate(text):\n",
    "        if next == '(' or next == '[' or next == '{':\n",
    "            opening_brackets_stack.append(next)        \n",
    "\n",
    "        if next == ')' or next == ']' or next == '}':\n",
    "            if len(opening_brackets_stack)>0:\n",
    "                last_opening = opening_brackets_stack[len(opening_brackets_stack)-1]\n",
    "                if next == ')' and last_opening ==\"(\":\n",
    "                    opening_brackets_stack.pop()\n",
    "                    continue\n",
    "                elif next == ']' and last_opening == '[':\n",
    "                    opening_brackets_stack.pop()\n",
    "                    continue\n",
    "                elif next ==  '}' and last_opening == '{':\n",
    "                    opening_brackets_stack.pop()\n",
    "                    continue\n",
    "            else:\n",
    "                notfail = False\n",
    "                break\n",
    "\n",
    "    if len(opening_brackets_stack) == 0 and notfail:\n",
    "        print(\"success\")\n",
    "    else:\n",
    "        print(\"Fail\")\n",
    "\n",
    "    # Printing answer, write your code here\n",
    "stack = Bracket"
   ]
  },
  {
   "cell_type": "code",
   "execution_count": null,
   "metadata": {},
   "outputs": [],
   "source": [
    "n = int(input())\n",
    "list = []\n",
    "for i in range(n):\n",
    "    list.append(int(input()))\n",
    "k = int(input())\n",
    "boolean = [True]*10000\n",
    "lists = []\n",
    "for x in list:\n",
    "    if boolean[x] and len(lists)<k:\n",
    "        boolean[x]=False\n",
    "        lists.append(x)\n",
    "    else:\n",
    "        if(boolean[x]):\n",
    "            lists[0] = True\n",
    "            lists.pop(0)\n",
    "            lists.append(x)\n",
    "            boolean[x]=False\n",
    "for i in lists:\n",
    "    print(i,end=\" \")"
   ]
  }
 ],
 "metadata": {
  "interpreter": {
   "hash": "49ed69d14c5bafd33dd9e3625d3b76637c4ab0eb3e78e730b1c53bf7385e46f6"
  },
  "kernelspec": {
   "display_name": "Python 3.10.0 64-bit",
   "language": "python",
   "name": "python3"
  },
  "language_info": {
   "codemirror_mode": {
    "name": "ipython",
    "version": 3
   },
   "file_extension": ".py",
   "mimetype": "text/x-python",
   "name": "python",
   "nbconvert_exporter": "python",
   "pygments_lexer": "ipython3",
   "version": "3.10.0"
  },
  "orig_nbformat": 4
 },
 "nbformat": 4,
 "nbformat_minor": 2
}
