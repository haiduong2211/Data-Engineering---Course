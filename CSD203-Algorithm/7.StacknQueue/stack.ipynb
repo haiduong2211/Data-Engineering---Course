{
 "cells": [
  {
   "cell_type": "code",
   "execution_count": 12,
   "metadata": {},
   "outputs": [
    {
     "name": "stdout",
     "output_type": "stream",
     "text": [
      "<__main__.Node object at 0x0000028505446320>\n",
      "<__main__.Node object at 0x0000028505446320>\n",
      "None\n"
     ]
    }
   ],
   "source": [
    "class Stack:\n",
    "    def __init__(self):\n",
    "        self.stack = []\n",
    "\n",
    "    def add(self, dataval):\n",
    "    # Use list append method to add element\n",
    "        if dataval not in self.stack:\n",
    "            self.stack.append(dataval)\n",
    "            return True\n",
    "        else:\n",
    "            return False\n",
    "    # Use peek to look at the top of the stack\n",
    "    def peek(self):\n",
    "        if len(self.stack) <= 0:\n",
    "            return None\n",
    "        return self.stack[-1]\n",
    "\n",
    "    # Use list pop method to remove element\n",
    "    def remove(self):\n",
    "        if len(self.stack) <= 0:\n",
    "            return (\"No element in the Stack\")\n",
    "        else:\n",
    "            return self.stack.pop()\n",
    "class Node:\n",
    "    def __init__(self, ID,Title,quantity,price):\n",
    "        self.ID = ID\n",
    "        self.Title = Title\n",
    "        self.quantity = quantity\n",
    "        self.price = price\n",
    "        self.nextval = None\n",
    "nnode = Node(1,2,3,4)\n",
    "st = Stack()\n",
    "st.add(nnode)\n",
    "print(st.peek())\n",
    "print(st.remove())\n",
    "print(st.peek())"
   ]
  }
 ],
 "metadata": {
  "interpreter": {
   "hash": "49ed69d14c5bafd33dd9e3625d3b76637c4ab0eb3e78e730b1c53bf7385e46f6"
  },
  "kernelspec": {
   "display_name": "Python 3.10.0 64-bit",
   "language": "python",
   "name": "python3"
  },
  "language_info": {
   "codemirror_mode": {
    "name": "ipython",
    "version": 3
   },
   "file_extension": ".py",
   "mimetype": "text/x-python",
   "name": "python",
   "nbconvert_exporter": "python",
   "pygments_lexer": "ipython3",
   "version": "3.10.0"
  },
  "orig_nbformat": 4
 },
 "nbformat": 4,
 "nbformat_minor": 2
}
