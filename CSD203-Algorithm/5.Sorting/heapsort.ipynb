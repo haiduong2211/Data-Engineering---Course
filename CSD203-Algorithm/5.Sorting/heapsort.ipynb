{
 "cells": [
  {
   "cell_type": "code",
   "execution_count": null,
   "metadata": {},
   "outputs": [],
   "source": [
    "def Heapsort(a):\n",
    "    for i in range(len(a)):\n",
    "        Insert(A[i])\n",
    "    for i in range(len(a),0,-1):\n",
    "        a[i]\n",
    "\n",
    "\n",
    "def Insert(x):\n",
    "    pass"
   ]
  }
 ],
 "metadata": {
  "language_info": {
   "name": "python"
  },
  "orig_nbformat": 4
 },
 "nbformat": 4,
 "nbformat_minor": 2
}
