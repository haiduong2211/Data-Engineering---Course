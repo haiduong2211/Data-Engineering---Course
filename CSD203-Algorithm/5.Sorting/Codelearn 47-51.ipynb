{
 "cells": [
  {
   "cell_type": "code",
   "execution_count": null,
   "metadata": {},
   "outputs": [],
   "source": [
    "a = [1,2,3,5]\n",
    "\n",
    "def QuickSort(a,l,r):\n",
    "    p = a[(l+r)//2]\n",
    "    i = l\n",
    "    j = r \n",
    "    while i < j:\n",
    "        while ( a[i]<p):\n",
    "            i+=1\n",
    "        while a[j] > p:\n",
    "            j -=1\n",
    "        if i <= j:\n",
    "            temp = a[i]\n",
    "            a[i] = a[j]\n",
    "            a[j] = temp\n",
    "            i += 1 \n",
    "            j -= 1\n",
    "    if i < r:\n",
    "        QuickSort(a,i,r)\n",
    "    if l < j:\n",
    "        QuickSort(a,l,j)\n",
    "\n",
    "\n",
    "def solve(a):\n",
    "    QuickSort(a,0,len(a)-1)\n",
    "    if a[0] > 0:\n",
    "        return 0\n",
    "    else:\n",
    "        for i in range(1,len(a)):\n",
    "            if a[i] - a[i-1] > 1:\n",
    "                return a[i-1]+1\n",
    "        return \"a\"\n",
    "\n",
    "print(solve(a))"
   ]
  },
  {
   "cell_type": "code",
   "execution_count": 11,
   "metadata": {},
   "outputs": [
    {
     "name": "stdout",
     "output_type": "stream",
     "text": [
      "99999 3; "
     ]
    }
   ],
   "source": [
    "#Codelearn 48\n",
    "#n = int(input())\n",
    "#a = []\n",
    "#for i in range(n):\n",
    "    #a.append(int(input()))\n",
    "\n",
    "a = [99999,99999,99999]\n",
    "def QuickSort(a,l,r):\n",
    "    p = a[(l+r)//2]\n",
    "    i = l\n",
    "    j = r \n",
    "    while i < j:\n",
    "        while ( a[i]<p):\n",
    "            i+=1\n",
    "        while a[j] > p:\n",
    "            j -=1\n",
    "        if i <= j:\n",
    "            temp = a[i]\n",
    "            a[i] = a[j]\n",
    "            a[j] = temp\n",
    "            i += 1 \n",
    "            j -= 1\n",
    "    if i < r:\n",
    "        QuickSort(a,i,r)\n",
    "    if l < j:\n",
    "        QuickSort(a,l,j)\n",
    "\n",
    "def solve(a):\n",
    "    QuickSort(a,0,len(a)-1)\n",
    "    count = 1\n",
    "    for i in range(1,len(a)): \n",
    "        if a[i] == a[i-1]:\n",
    "            count +=1 \n",
    "        else:\n",
    "            print(a[i-1],count,end ='; ')\n",
    "    print(a[len(a)-1],count,end= '; ')\n",
    "\n",
    "solve(a)\n",
    "        \n"
   ]
  },
  {
   "cell_type": "code",
   "execution_count": 15,
   "metadata": {},
   "outputs": [
    {
     "name": "stdout",
     "output_type": "stream",
     "text": [
      "2\n"
     ]
    }
   ],
   "source": [
    "#Codelearn 49\n",
    "a = [1,3,2,5,10,8]\n",
    "k = 2\n",
    "def QuickSort(a,l,r):\n",
    "    p = a[(l+r)//2]\n",
    "    i = l\n",
    "    j = r \n",
    "    while i < j:\n",
    "        while ( a[i]<p):\n",
    "            i+=1\n",
    "        while a[j] > p:\n",
    "            j -=1\n",
    "        if i <= j:\n",
    "            temp = a[i]\n",
    "            a[i] = a[j]\n",
    "            a[j] = temp\n",
    "            i += 1 \n",
    "            j -= 1\n",
    "    if i < r:\n",
    "        QuickSort(a,i,r)\n",
    "    if l < j:\n",
    "        QuickSort(a,l,j)\n",
    "\n",
    "def solve49(a,k):\n",
    "    count = 1\n",
    "    QuickSort(a,0,len(a)-1)\n",
    "    for i in range(1,len(a)):\n",
    "        if a[i]-a[i-1] >k:\n",
    "            count+=1\n",
    "    return count\n",
    "print(solve49(a,k))"
   ]
  },
  {
   "cell_type": "code",
   "execution_count": 32,
   "metadata": {},
   "outputs": [
    {
     "name": "stdout",
     "output_type": "stream",
     "text": [
      "NULL\n"
     ]
    },
    {
     "data": {
      "text/plain": [
       "0"
      ]
     },
     "execution_count": 32,
     "metadata": {},
     "output_type": "execute_result"
    }
   ],
   "source": [
    "#CodeLearn50\n",
    "import math\n",
    "a = [2,3,5]\n",
    "def solve50(a):\n",
    "    b = []\n",
    "    if len(a) == 0:\n",
    "        print(\"NULL\")\n",
    "    else:\n",
    "        for i in a:\n",
    "            if math.sqrt(i) % 1== 0:\n",
    "                if i not in b:\n",
    "                    b.append(i)\n",
    "        if not b:\n",
    "            print( \"NULL\")\n",
    "            return 0\n",
    "        QuickSort(b,0,len(b)-1)        \n",
    "        for i in b:\n",
    "            print(i,end = ' ')\n",
    "    return 0\n",
    "        \n",
    "solve50(a)\n",
    "\n",
    "    "
   ]
  },
  {
   "cell_type": "code",
   "execution_count": 48,
   "metadata": {},
   "outputs": [
    {
     "name": "stdout",
     "output_type": "stream",
     "text": [
      "[-4, -1, 2, 3, 6]\n",
      "2 -1 3 0 -4 6 "
     ]
    }
   ],
   "source": [
    "#CodeLearn 51\n",
    "a = [3, -1, 2, 0, -4, 6]\n",
    "\n",
    "def QuickSort(a,l,r):\n",
    "    p = a[(l+r)//2]\n",
    "    i = l\n",
    "    j = r \n",
    "    while i < j:\n",
    "        while ( a[i]<p):\n",
    "            i+=1\n",
    "        while a[j] > p:\n",
    "            j -=1\n",
    "        if i <= j:\n",
    "            temp = a[i]\n",
    "            a[i] = a[j]\n",
    "            a[j] = temp\n",
    "            i += 1 \n",
    "            j -= 1\n",
    "    if i < r:\n",
    "        QuickSort(a,i,r)\n",
    "    if l < j:\n",
    "        QuickSort(a,l,j)\n",
    "\n",
    "def solve51(a):\n",
    "    k = 0\n",
    "    b = []\n",
    "    for i in range(0,len(a)):\n",
    "        if a[i] != 0:\n",
    "            b.append(a[i])\n",
    "            k +=1\n",
    "    QuickSort(b,0,len(b)-1)\n",
    "    print(b)\n",
    "    k=0\n",
    "    for i in range(len(a)-1,-1,-1):\n",
    "        if a[i]<0:\n",
    "            a[i]=b[k]\n",
    "            k +=1\n",
    "    for i in range(0,len(a)):\n",
    "        if a[i] > 0:\n",
    "            a[i] = b[k]\n",
    "            k += 1\n",
    "    for i in range(0,len(a)):\n",
    "        print(a[i],end =' ')\n",
    "solve51(a)"
   ]
  },
  {
   "cell_type": "code",
   "execution_count": null,
   "metadata": {},
   "outputs": [],
   "source": []
  }
 ],
 "metadata": {
  "interpreter": {
   "hash": "49ed69d14c5bafd33dd9e3625d3b76637c4ab0eb3e78e730b1c53bf7385e46f6"
  },
  "kernelspec": {
   "display_name": "Python 3.10.0 64-bit",
   "language": "python",
   "name": "python3"
  },
  "language_info": {
   "codemirror_mode": {
    "name": "ipython",
    "version": 3
   },
   "file_extension": ".py",
   "mimetype": "text/x-python",
   "name": "python",
   "nbconvert_exporter": "python",
   "pygments_lexer": "ipython3",
   "version": "3.10.0"
  },
  "orig_nbformat": 4
 },
 "nbformat": 4,
 "nbformat_minor": 2
}
