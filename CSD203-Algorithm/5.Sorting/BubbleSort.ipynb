{
 "cells": [
  {
   "cell_type": "code",
   "execution_count": 5,
   "metadata": {},
   "outputs": [
    {
     "name": "stdout",
     "output_type": "stream",
     "text": [
      "1 2 0 3 4\n",
      "1 0 2 3 4\n",
      "0 1 2 3 4\n"
     ]
    }
   ],
   "source": [
    "#n = int(input())\n",
    "#a = []\n",
    "#for i in range(n):\n",
    "#    a.append(int(input()))\n",
    "\n",
    "a = [1,2,4,0,3]\n",
    "def BubbleSort(a):\n",
    "    for i in range(len(a)-1,1,-1):\n",
    "        for j in range(0,i):\n",
    "            if a[j]>a[j+1]:\n",
    "                #temp = a[j]\n",
    "                a[j],a[j+1] = a[j+1],a[j]\n",
    "                #a[j+1] = temp\n",
    "        print(*a)\n",
    "\n",
    "BubbleSort(a)"
   ]
  },
  {
   "cell_type": "code",
   "execution_count": 4,
   "metadata": {},
   "outputs": [
    {
     "name": "stdout",
     "output_type": "stream",
     "text": [
      "True\n"
     ]
    }
   ],
   "source": [
    "print(3==3.0)"
   ]
  }
 ],
 "metadata": {
  "interpreter": {
   "hash": "49ed69d14c5bafd33dd9e3625d3b76637c4ab0eb3e78e730b1c53bf7385e46f6"
  },
  "kernelspec": {
   "display_name": "Python 3.10.0 64-bit",
   "language": "python",
   "name": "python3"
  },
  "language_info": {
   "codemirror_mode": {
    "name": "ipython",
    "version": 3
   },
   "file_extension": ".py",
   "mimetype": "text/x-python",
   "name": "python",
   "nbconvert_exporter": "python",
   "pygments_lexer": "ipython3",
   "version": "3.10.0"
  },
  "orig_nbformat": 4
 },
 "nbformat": 4,
 "nbformat_minor": 2
}
