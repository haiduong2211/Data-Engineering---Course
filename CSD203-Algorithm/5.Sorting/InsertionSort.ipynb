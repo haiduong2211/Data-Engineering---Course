{
 "cells": [
  {
   "cell_type": "code",
   "execution_count": 4,
   "metadata": {},
   "outputs": [
    {
     "name": "stdout",
     "output_type": "stream",
     "text": [
      "[3, 3, 1, 4]\n",
      "[2, 3, 3, 4]\n",
      "[2, 2, 3, 4]\n",
      "[1, 2, 3, 4]\n"
     ]
    }
   ],
   "source": [
    "a = [3,2,1,4]\n",
    "\n",
    "def InsertionSort(a)\n",
    "    for i in range(1,len(a)):\n",
    "        index = i\n",
    "        value = a[i]\n",
    "        while (index > 0 and a[index-1]>value):\n",
    "            a[index] = a[index-1] #Dời số index -1 sang index (vẫn giữ value chưa assign)\n",
    "            index -=1\n",
    "        a[index] = value\n",
    "\n",
    "print(InsertionSort(a))"
   ]
  }
 ],
 "metadata": {
  "interpreter": {
   "hash": "49ed69d14c5bafd33dd9e3625d3b76637c4ab0eb3e78e730b1c53bf7385e46f6"
  },
  "kernelspec": {
   "display_name": "Python 3.10.0 64-bit",
   "language": "python",
   "name": "python3"
  },
  "language_info": {
   "codemirror_mode": {
    "name": "ipython",
    "version": 3
   },
   "file_extension": ".py",
   "mimetype": "text/x-python",
   "name": "python",
   "nbconvert_exporter": "python",
   "pygments_lexer": "ipython3",
   "version": "3.10.0"
  },
  "orig_nbformat": 4
 },
 "nbformat": 4,
 "nbformat_minor": 2
}
