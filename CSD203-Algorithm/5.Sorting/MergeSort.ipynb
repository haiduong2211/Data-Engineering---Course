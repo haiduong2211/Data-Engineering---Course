{
 "cells": [
  {
   "cell_type": "code",
   "execution_count": 26,
   "metadata": {},
   "outputs": [
    {
     "name": "stdout",
     "output_type": "stream",
     "text": [
      "[-57, -49, -43, -22, 4, 13, 20, 26, 28, 49]\n"
     ]
    }
   ],
   "source": [
    "a = [13,28,-57,26,-43,4,-22,20,-49,49]\n",
    "\n",
    "def MergeSort(a,l,r):\n",
    "    if l < r:\n",
    "        mid = (l+r-1)//2\n",
    "        MergeSort(a,mid+1,r)\n",
    "        MergeSort(a,l,mid)\n",
    "        Merge(a,l,mid,r)\n",
    "\n",
    "def Merge(a,l,m,r):\n",
    "    n1 = m - l + 1\n",
    "    n2 = r - m  \n",
    "    i = j = 0 \n",
    "    # create temp arrays\n",
    "    L = [0] * (n1)\n",
    "    R = [0] * (n2)\n",
    "    for i in range(0, n1):\n",
    "        L[i] = a[l + i]\n",
    "    for j in range(0, n2):\n",
    "        R[j] = a[m + 1 + j]\n",
    " \n",
    "    # Merge the temp arrays back into arr[l..r]\n",
    "    i = 0     # Initial index of first subarray\n",
    "    j = 0     # Initial index of second subarray\n",
    "    k = l     # Initial index of merged subarray\n",
    "    while i < n1 and j < n2:\n",
    "        if L[i] <= R[j]:\n",
    "            a[k] = L[i]\n",
    "            i += 1\n",
    "        else:\n",
    "            a[k] = R[j]\n",
    "            j += 1\n",
    "        k += 1\n",
    " \n",
    "    # Copy the remaining elements of L[], if there\n",
    "    # are any\n",
    "    while i < n1:\n",
    "        a[k] = L[i]\n",
    "        i += 1\n",
    "        k += 1\n",
    " \n",
    "    # Copy the remaining elements of R[], if there\n",
    "    # are any\n",
    "    while j < n2:\n",
    "        a[k] = R[j]\n",
    "        j += 1\n",
    "        k += 1\n",
    "MergeSort(a,0,len(a)-1)  \n",
    "for i in a:\n",
    "    print(i,end=' ')"
   ]
  },
  {
   "cell_type": "code",
   "execution_count": null,
   "metadata": {},
   "outputs": [],
   "source": [
    "print(2//2)"
   ]
  }
 ],
 "metadata": {
  "interpreter": {
   "hash": "49ed69d14c5bafd33dd9e3625d3b76637c4ab0eb3e78e730b1c53bf7385e46f6"
  },
  "kernelspec": {
   "display_name": "Python 3.10.0 64-bit",
   "language": "python",
   "name": "python3"
  },
  "language_info": {
   "codemirror_mode": {
    "name": "ipython",
    "version": 3
   },
   "file_extension": ".py",
   "mimetype": "text/x-python",
   "name": "python",
   "nbconvert_exporter": "python",
   "pygments_lexer": "ipython3",
   "version": "3.10.0"
  },
  "orig_nbformat": 4
 },
 "nbformat": 4,
 "nbformat_minor": 2
}
