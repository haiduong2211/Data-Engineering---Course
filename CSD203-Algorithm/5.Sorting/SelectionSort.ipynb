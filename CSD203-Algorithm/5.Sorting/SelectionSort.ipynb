{
 "cells": [
  {
   "cell_type": "code",
   "execution_count": 2,
   "metadata": {},
   "outputs": [
    {
     "name": "stdout",
     "output_type": "stream",
     "text": [
      "[1, 2, 3, 3, 4, 5]\n"
     ]
    }
   ],
   "source": [
    "a = [3,2,1,3,4,5]\n",
    "\n",
    "def SelectionSort(a):\n",
    "    for i in range(0,len(a)):\n",
    "        indexMin = i\n",
    "        for j in range(i+1,len(a)):\n",
    "            if a[indexMin] > a[j]:\n",
    "                indexMin = j\n",
    "        if i != indexMin:\n",
    "            temp = a[i]\n",
    "            a[i] = a[indexMin]\n",
    "            a[indexMin] = temp\n",
    "    return a\n",
    "\n",
    "print(SelectionSort(a)) "
   ]
  }
 ],
 "metadata": {
  "interpreter": {
   "hash": "49ed69d14c5bafd33dd9e3625d3b76637c4ab0eb3e78e730b1c53bf7385e46f6"
  },
  "kernelspec": {
   "display_name": "Python 3.10.0 64-bit",
   "language": "python",
   "name": "python3"
  },
  "language_info": {
   "codemirror_mode": {
    "name": "ipython",
    "version": 3
   },
   "file_extension": ".py",
   "mimetype": "text/x-python",
   "name": "python",
   "nbconvert_exporter": "python",
   "pygments_lexer": "ipython3",
   "version": "3.10.0"
  },
  "orig_nbformat": 4
 },
 "nbformat": 4,
 "nbformat_minor": 2
}
