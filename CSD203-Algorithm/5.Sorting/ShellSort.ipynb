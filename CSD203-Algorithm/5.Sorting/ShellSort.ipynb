{
 "cells": [
  {
   "cell_type": "code",
   "execution_count": 1,
   "metadata": {},
   "outputs": [
    {
     "name": "stdout",
     "output_type": "stream",
     "text": [
      "5 6 8 44 77\n"
     ]
    }
   ],
   "source": [
    "#ShellSort\n",
    "\n",
    "a = [9, 1, 3, 7, 8, 4, 2, 6, 5]\n",
    "\n",
    "n = int(input())\n",
    "a = [int(input()) for i in range(n)]\n",
    "k = 1\n",
    "\n",
    "while n//2**(k) > 0:\n",
    "    interval = n//2**k\n",
    "    for i in range(n):\n",
    "        index = i \n",
    "        value = a[i]\n",
    "        while (index > 0) & (a[index - interval] > value):\n",
    "            a[index] = a[index - interval] \n",
    "            index -= interval\n",
    "        a[index] =  value\n",
    "    k += 1\n",
    "\n",
    "print(' '.join(list(map(str,a))))"
   ]
  }
 ],
 "metadata": {
  "interpreter": {
   "hash": "49ed69d14c5bafd33dd9e3625d3b76637c4ab0eb3e78e730b1c53bf7385e46f6"
  },
  "kernelspec": {
   "display_name": "Python 3.10.0 64-bit",
   "language": "python",
   "name": "python3"
  },
  "language_info": {
   "codemirror_mode": {
    "name": "ipython",
    "version": 3
   },
   "file_extension": ".py",
   "mimetype": "text/x-python",
   "name": "python",
   "nbconvert_exporter": "python",
   "pygments_lexer": "ipython3",
   "version": "3.10.0"
  },
  "orig_nbformat": 4
 },
 "nbformat": 4,
 "nbformat_minor": 2
}
