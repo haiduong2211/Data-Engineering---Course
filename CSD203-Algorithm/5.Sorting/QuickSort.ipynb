{
 "cells": [
  {
   "cell_type": "code",
   "execution_count": 3,
   "metadata": {},
   "outputs": [
    {
     "name": "stdout",
     "output_type": "stream",
     "text": [
      "[1, 2, 3, 4, 5, 6, 7, 8, 9]\n"
     ]
    }
   ],
   "source": [
    "a = [9, 1, 3, 7, 8, 4, 2, 6, 5]\n",
    "\n",
    "\n",
    "def QuickSort(a,l,r):\n",
    "    p = a[(l+r)//2]\n",
    "    i = l\n",
    "    j = r \n",
    "    while i < j:\n",
    "        while ( a[i]<p):\n",
    "            i+=1\n",
    "        while a[j] > p:\n",
    "            j -=1\n",
    "        if i <= j:\n",
    "            temp = a[i]\n",
    "            a[i] = a[j]\n",
    "            a[j] = temp\n",
    "            i += 1 \n",
    "            j -= 1\n",
    "    if i < r:\n",
    "        QuickSort(a,i,r)\n",
    "    if l < j:\n",
    "        QuickSort(a,l,j)\n",
    "QuickSort(a,0,len(a)-1)\n",
    "print(a)"
   ]
  },
  {
   "cell_type": "code",
   "execution_count": 16,
   "metadata": {},
   "outputs": [
    {
     "name": "stdout",
     "output_type": "stream",
     "text": [
      "[1, 2, 3, 4, 5, 6, 7, 8, 9]\n"
     ]
    }
   ],
   "source": [
    "def QuickSort(a,l,r):\n",
    "    if len(a) == 1: #Basecase\n",
    "        return a\n",
    "    if l<r:\n",
    "        low,high = partition3(a,l,r)\n",
    "        QuickSort(a,l,low-1)\n",
    "        QuickSort(a,high+1,r)\n",
    "    return a\n",
    "'''\n",
    "def partition(a,l,r):\n",
    "    pivot, ptr = a[r],l\n",
    "    for i in range(l,r):\n",
    "        print(pivot,ptr,a,end=\"->\")\n",
    "        if a[i]<=pivot:\n",
    "            a[i],a[ptr] = a[ptr],a[i]\n",
    "            ptr +=1\n",
    "        print(a)\n",
    "    a[ptr], a[r] = a[r], a[ptr]\n",
    "    return ptr\n",
    "a = [9, 1, 3, 7, 8, 4, 2, 6, 5]\n",
    "'''\n",
    "def partition3(a,l,r):\n",
    "    low = l\n",
    "    i = l\n",
    "    high = r\n",
    "    pivot = a[l]\n",
    "    while i <= high:\n",
    "        if a[i] < pivot:\n",
    "            a[low],a[i] = a[i],a[low]\n",
    "            i+=1\n",
    "            low +=1\n",
    "        elif a[i] > pivot:\n",
    "            a[high],a[i]=a[i],a[high]\n",
    "            high -=1\n",
    "        else:\n",
    "            i +=1\n",
    "    return low,high\n",
    "\n",
    "QuickSort(a,0,len(a)-1)\n",
    "print(a)"
   ]
  }
 ],
 "metadata": {
  "interpreter": {
   "hash": "49ed69d14c5bafd33dd9e3625d3b76637c4ab0eb3e78e730b1c53bf7385e46f6"
  },
  "kernelspec": {
   "display_name": "Python 3.10.0 64-bit",
   "language": "python",
   "name": "python3"
  },
  "language_info": {
   "codemirror_mode": {
    "name": "ipython",
    "version": 3
   },
   "file_extension": ".py",
   "mimetype": "text/x-python",
   "name": "python",
   "nbconvert_exporter": "python",
   "pygments_lexer": "ipython3",
   "version": "3.10.0"
  },
  "orig_nbformat": 4
 },
 "nbformat": 4,
 "nbformat_minor": 2
}
