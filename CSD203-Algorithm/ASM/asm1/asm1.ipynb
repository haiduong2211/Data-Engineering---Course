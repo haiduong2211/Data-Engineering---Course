{
 "cells": [
  {
   "cell_type": "code",
   "execution_count": null,
   "metadata": {},
   "outputs": [],
   "source": [
    "import os.path\n",
    "import time"
   ]
  },
  {
   "cell_type": "code",
   "execution_count": null,
   "metadata": {},
   "outputs": [],
   "source": [
    "def ManualInput(): #1\n",
    "    print(\"Please enter input number of elements: \")\n",
    "    n = int(input())\n",
    "    a = []\n",
    "    file = open(\"input.txt\",'w')\n",
    "    print(\"Please enter input elements: \")\n",
    "    for i in range(n):\n",
    "       a.append(float(input(i+1)))\n",
    "    for i in range(len(a)):\n",
    "        if i == len(a)-1:\n",
    "            string = str(a[i])\n",
    "        else:\n",
    "            string = str(a[i])+\" \"\n",
    "        file.write(string)\n",
    "    file.close()\n",
    "ManualInput()\n"
   ]
  },
  {
   "cell_type": "code",
   "execution_count": null,
   "metadata": {},
   "outputs": [],
   "source": [
    "def FileInput(): #2\n",
    "    #path: C:/Users/Duong Nguyen/Desktop/DE/Algorithm/Asm/asm1\n",
    "    #file_path = input(\"file path: \")\n",
    "    #file_name = input(\"File name: \")\n",
    "    #file1 = os.path.join(file_path,file_name)\n",
    "    file1 = \"C:/Users/Duong Nguyen/Desktop/DE/Algorithm/Asm/asm1/input.txt\"\n",
    "    f = open(file1,'r').readline()\n",
    "    a = f.split(\" \")\n",
    "    for i in range(len(a)):\n",
    "        a[i] = float(a[i])\n",
    "        print(i, end = ' ')\n",
    "    print(\"\\n\")\n",
    "    return a\n"
   ]
  },
  {
   "cell_type": "code",
   "execution_count": null,
   "metadata": {},
   "outputs": [],
   "source": [
    "def BubbleSort(): #3\n",
    "    a = FileInput()\n",
    "    for i in range(len(a)-1,1,-1):\n",
    "        for j in range(0,i):\n",
    "            if a[j]>a[j+1]:\n",
    "                a[j],a[j+1] = a[j+1],a[j]\n",
    "        print(*a, sep = ' ')"
   ]
  },
  {
   "cell_type": "code",
   "execution_count": null,
   "metadata": {},
   "outputs": [],
   "source": [
    "def SelectionSort(a): #4\n",
    "    for i in range(0,len(a)):\n",
    "        indexMin = i\n",
    "        for j in range(i+1,len(a)):\n",
    "            if a[indexMin] > a[j]:\n",
    "                indexMin = j\n",
    "        if i != indexMin:\n",
    "            a[i],a[indexMin] = a[indexMin],a[i]\n",
    "        print(*a, sep = ' ')"
   ]
  },
  {
   "cell_type": "code",
   "execution_count": null,
   "metadata": {},
   "outputs": [],
   "source": [
    "def InsertionSort(a): #5\n",
    "    for i in range(1,len(a)):\n",
    "        index = i\n",
    "        value = a[i]\n",
    "        while (index > 0 and a[index-1]>value):\n",
    "            a[index] = a[index-1] #Dời số index -1 sang index (vẫn giữ value chưa assign)\n",
    "            index -=1\n",
    "        a[index] = value\n",
    "        print(*a, sep = ' ')\n"
   ]
  },
  {
   "cell_type": "code",
   "execution_count": null,
   "metadata": {},
   "outputs": [],
   "source": [
    "def SearchGreater(a): #6\n",
    "    x = float(input(\"Nhập số cần tìm: \"))\n",
    "    for i in a:\n",
    "        if i > x:\n",
    "            print(i, end = ' ')"
   ]
  },
  {
   "cell_type": "code",
   "execution_count": 11,
   "metadata": {},
   "outputs": [
    {
     "data": {
      "text/plain": [
       "-1"
      ]
     },
     "execution_count": 11,
     "metadata": {},
     "output_type": "execute_result"
    }
   ],
   "source": [
    "def SearchValue(a): #7\n",
    "    x = float(input(\"Nhập số cần tìm: \"))\n",
    "    return BinarySearch(a,0,len(a)-1,x)\n",
    "    \n",
    "def BinarySearch(a,left,right,x):\n",
    "    mid = (right + left)//2\n",
    "    if left == right:\n",
    "        return -1\n",
    "    if a[mid] == x:\n",
    "        return mid\n",
    "    elif x < a[mid]:\n",
    "        return BinarySearch(a,left,mid-1,x)\n",
    "    elif a[mid] < x:\n",
    "        return BinarySearch(a,mid+1,right,x)\n",
    "    return mid\n",
    "\n",
    "a = [0,1,2,3,4,5,6]\n",
    "SearchValue(a)"
   ]
  },
  {
   "cell_type": "code",
   "execution_count": null,
   "metadata": {},
   "outputs": [],
   "source": [
    "def main():\n",
    "    a=[]\n",
    "    print('''\n",
    "+-----------------Menu----------------+\n",
    "|      1.Manual Input                 |\n",
    "|      2.File input                   |\n",
    "|      3.Bubble sort                  |\n",
    "|      4.Selection sort               |\n",
    "|      5.Insertion sort               |\n",
    "|      6.Search > value               |\n",
    "|      7.Search = value               |\n",
    "|      0.Exit                         |\n",
    "+------------------------------------.+''')\n",
    "    choice = int(input(\"Nhập thao tác: \"))\n",
    "    if choice == 1:\n",
    "        ManualInput()\n",
    "        main()\n",
    "    elif choice == 2:\n",
    "        a = FileInput()\n",
    "        main()\n",
    "    elif choice == 3:\n",
    "        BubbleSort(a)\n",
    "        main()\n",
    "    elif choice == 4:\n",
    "        SelectionSort(a)\n",
    "        main()\n",
    "    elif choice ==5:\n",
    "        InsertionSort(a)\n",
    "        main()\n",
    "    elif choice == 6:\n",
    "        SearchGreater(a)\n",
    "        main()\n",
    "    elif choice == 7:\n",
    "        SearchValue(a)\n",
    "        main()\n",
    "    elif choice == 0:\n",
    "        exit()\n",
    "    else:\n",
    "        print(\"Vui lòng nhập lại lựa chọn:\\n\")\n",
    "        main()\n",
    "if __name__ == '__main__':\n",
    "    main()"
   ]
  }
 ],
 "metadata": {
  "interpreter": {
   "hash": "49ed69d14c5bafd33dd9e3625d3b76637c4ab0eb3e78e730b1c53bf7385e46f6"
  },
  "kernelspec": {
   "display_name": "Python 3.10.0 64-bit",
   "language": "python",
   "name": "python3"
  },
  "language_info": {
   "codemirror_mode": {
    "name": "ipython",
    "version": 3
   },
   "file_extension": ".py",
   "mimetype": "text/x-python",
   "name": "python",
   "nbconvert_exporter": "python",
   "pygments_lexer": "ipython3",
   "version": "3.10.0"
  },
  "orig_nbformat": 4
 },
 "nbformat": 4,
 "nbformat_minor": 2
}
