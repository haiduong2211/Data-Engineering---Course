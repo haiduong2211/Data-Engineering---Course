{
 "cells": [
  {
   "cell_type": "code",
   "execution_count": 1,
   "metadata": {},
   "outputs": [
    {
     "name": "stdout",
     "output_type": "stream",
     "text": [
      "True\n",
      "False\n"
     ]
    }
   ],
   "source": [
    "def linear_search(values, search_for):\n",
    "   search_at = 0\n",
    "   search_res = False\n",
    "# Match the value with each data element\t\n",
    "   while search_at < len(values) and search_res is False:\n",
    "      if values[search_at] == search_for:\n",
    "         search_res = True\n",
    "      else:\n",
    "         search_at = search_at + 1\n",
    "   return search_res\n",
    "l = [64, 34, 25, 12, 22, 11, 90]\n",
    "print(linear_search(l, 12))\n",
    "print(linear_search(l, 91))"
   ]
  }
 ],
 "metadata": {
  "interpreter": {
   "hash": "49ed69d14c5bafd33dd9e3625d3b76637c4ab0eb3e78e730b1c53bf7385e46f6"
  },
  "kernelspec": {
   "display_name": "Python 3.10.0 64-bit",
   "language": "python",
   "name": "python3"
  },
  "language_info": {
   "codemirror_mode": {
    "name": "ipython",
    "version": 3
   },
   "file_extension": ".py",
   "mimetype": "text/x-python",
   "name": "python",
   "nbconvert_exporter": "python",
   "pygments_lexer": "ipython3",
   "version": "3.10.0"
  },
  "orig_nbformat": 4
 },
 "nbformat": 4,
 "nbformat_minor": 2
}
