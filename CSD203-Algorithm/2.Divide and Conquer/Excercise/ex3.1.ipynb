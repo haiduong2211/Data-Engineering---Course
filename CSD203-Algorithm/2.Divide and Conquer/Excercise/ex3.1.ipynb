{
 "cells": [
  {
   "cell_type": "code",
   "execution_count": 12,
   "metadata": {},
   "outputs": [
    {
     "name": "stdout",
     "output_type": "stream",
     "text": [
      "5\n"
     ]
    }
   ],
   "source": [
    "#Bài 73 codelearn\n",
    "a=[int(input()) for i in range(int(input()))]\n",
    "x=int(input())\n",
    "#a= [1,2,3,5,6,1,3,5,1,3,5,78,1,2,4,5,1]\n",
    "#x= 1\n",
    "n = len(a)\n",
    "def ex3(a,n,x):\n",
    "    if len(a)==1:\n",
    "        if a[0] == x:\n",
    "            return 1\n",
    "        else: \n",
    "            return 0\n",
    "    else: \n",
    "         m = int(round((len(a)/2),0))\n",
    "         b = a[0:m]\n",
    "         c = a[m:n]\n",
    "         return ex3(b,len(b),x) + ex3(c,len(c),x)\n",
    "\n",
    "print(ex3(a,n,x))\n",
    "\n"
   ]
  }
 ],
 "metadata": {
  "interpreter": {
   "hash": "49ed69d14c5bafd33dd9e3625d3b76637c4ab0eb3e78e730b1c53bf7385e46f6"
  },
  "kernelspec": {
   "display_name": "Python 3.10.0 64-bit",
   "language": "python",
   "name": "python3"
  },
  "language_info": {
   "codemirror_mode": {
    "name": "ipython",
    "version": 3
   },
   "file_extension": ".py",
   "mimetype": "text/x-python",
   "name": "python",
   "nbconvert_exporter": "python",
   "pygments_lexer": "ipython3",
   "version": "3.10.0"
  },
  "orig_nbformat": 4
 },
 "nbformat": 4,
 "nbformat_minor": 2
}
