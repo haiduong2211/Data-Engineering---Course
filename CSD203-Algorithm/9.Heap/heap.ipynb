{
 "cells": [
  {
   "cell_type": "markdown",
   "metadata": {},
   "source": [
    "<heapify> − This function converts a regular list to a heap. In the resulting heap the smallest element gets pushed to the index position 0. But rest of the data elements are not necessarily sorted.\n",
    "\n",
    "<heappush> − This function adds an element to the heap without altering the current heap.\n",
    "\n",
    "<heappop> − This function returns the smallest data element from the heap.\n",
    "\n",
    "<heapreplace> − This function replaces the smallest data element with a new value supplied in the function."
   ]
  },
  {
   "cell_type": "code",
   "execution_count": null,
   "metadata": {},
   "outputs": [],
   "source": [
    "import heapq\n",
    "\n",
    "H = [21,1,45,78,3,5]\n",
    "# Use heapify to rearrange the elements\n",
    "heapq.heapify(H)\n",
    "print(H)"
   ]
  },
  {
   "cell_type": "code",
   "execution_count": 1,
   "metadata": {},
   "outputs": [
    {
     "name": "stdout",
     "output_type": "stream",
     "text": [
      "[1, 3, 5, 78, 21, 45]\n",
      "[1, 3, 5, 78, 21, 45, 8]\n"
     ]
    }
   ],
   "source": [
    "import heapq\n",
    "\n",
    "H = [21,1,45,78,3,5]\n",
    "# Covert to a heap\n",
    "heapq.heapify(H)\n",
    "print(H)\n",
    "\n",
    "# Add element\n",
    "heapq.heappush(H,8)\n",
    "print(H)\n",
    "\n",
    "# Remove element from the heap\n",
    "heapq.heappop(H)\n",
    "# Replace an element\n",
    "heapq.heapreplace(H,6)\n",
    "print(H)"
   ]
  }
 ],
 "metadata": {
  "kernelspec": {
   "display_name": "Python 3.10.0 64-bit",
   "language": "python",
   "name": "python3"
  },
  "language_info": {
   "codemirror_mode": {
    "name": "ipython",
    "version": 3
   },
   "file_extension": ".py",
   "mimetype": "text/x-python",
   "name": "python",
   "nbconvert_exporter": "python",
   "pygments_lexer": "ipython3",
   "version": "3.10.0"
  },
  "orig_nbformat": 4,
  "vscode": {
   "interpreter": {
    "hash": "49ed69d14c5bafd33dd9e3625d3b76637c4ab0eb3e78e730b1c53bf7385e46f6"
   }
  }
 },
 "nbformat": 4,
 "nbformat_minor": 2
}
