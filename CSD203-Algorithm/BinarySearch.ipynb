{
 "cells": [
  {
   "cell_type": "code",
   "execution_count": 18,
   "metadata": {},
   "outputs": [
    {
     "name": "stdout",
     "output_type": "stream",
     "text": [
      "9\n"
     ]
    }
   ],
   "source": [
    "#Binary Search\n",
    "def BinarySearch(a,left,right,x):\n",
    "    mid = int((right + left)/2)\n",
    "    if a[mid] == x:\n",
    "        return mid\n",
    "    elif x < a[mid]:\n",
    "        return BinarySearch(a,left,mid-1,x)\n",
    "    elif a[mid] < x:\n",
    "        return BinarySearch(a,mid+1,right,x)\n",
    "    print(mid,a[mid])\n",
    "    return mid\n",
    "a = [1,2,3,4,5,6,7,7,8,9,12]\n",
    "\n",
    "print(BinarySearch(a,0,len(a)-1,9))"
   ]
  }
 ],
 "metadata": {
  "interpreter": {
   "hash": "49ed69d14c5bafd33dd9e3625d3b76637c4ab0eb3e78e730b1c53bf7385e46f6"
  },
  "kernelspec": {
   "display_name": "Python 3.10.0 64-bit",
   "language": "python",
   "name": "python3"
  },
  "language_info": {
   "codemirror_mode": {
    "name": "ipython",
    "version": 3
   },
   "file_extension": ".py",
   "mimetype": "text/x-python",
   "name": "python",
   "nbconvert_exporter": "python",
   "pygments_lexer": "ipython3",
   "version": "3.10.0"
  },
  "orig_nbformat": 4
 },
 "nbformat": 4,
 "nbformat_minor": 2
}
