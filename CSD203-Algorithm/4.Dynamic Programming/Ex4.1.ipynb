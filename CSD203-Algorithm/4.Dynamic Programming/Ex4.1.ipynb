{
 "cells": [
  {
   "cell_type": "markdown",
   "metadata": {},
   "source": [
    "Tìm dãy số dài nhất không giảm\n",
    "Nếu có nhiều dãy con dài nhất thì chọn lần xuất hiện đầu tiên"
   ]
  },
  {
   "cell_type": "code",
   "execution_count": 5,
   "metadata": {},
   "outputs": [
    {
     "name": "stdout",
     "output_type": "stream",
     "text": [
      "2 3 4 5 6 7 8 9 10 11 "
     ]
    }
   ],
   "source": [
    "a = [1,2,4,6,7,4,3,5,2,3,4,5,6,7,8,9,10,11,2,3,4]\n",
    "n = len(a)\n",
    "#Tìm vị trí bắt đầu và kết thúc của dãy số\n",
    "#Top down\n",
    "def subList(start, a):\n",
    "    #Nếu list chỉ có 1 phần tử thì nó sẽ bắt đầu từ số 0 và có độ dài bằng 1\n",
    "    #Base Case\n",
    "    if start == len(a):\n",
    "        return 0,0\n",
    "    #Kiểm tra từng phần tử trong i và tính độ dài cho đến khi dừng chạy\n",
    "    for i in range(start,len(a)):\n",
    "        if a[i] <= a[i-1]:# Nếu đã giảm\n",
    "            index,length = subList(i+1,a) #Sublist là dãy tiếp theo khi kết thúc\n",
    "            if i - start + 1 < length: #So sánh sublist và list đang chạy\n",
    "                return index, length\n",
    "            return start - 1, i - start + 1\n",
    "\n",
    "    return start - 1, len(a) - start + 1\n",
    "\n",
    "start,length = subList (1,a)\n",
    "for i in range (length):\n",
    "    print(a[start+i],end=\" \")"
   ]
  },
  {
   "cell_type": "code",
   "execution_count": null,
   "metadata": {},
   "outputs": [],
   "source": []
  }
 ],
 "metadata": {
  "interpreter": {
   "hash": "49ed69d14c5bafd33dd9e3625d3b76637c4ab0eb3e78e730b1c53bf7385e46f6"
  },
  "kernelspec": {
   "display_name": "Python 3.10.0 64-bit",
   "language": "python",
   "name": "python3"
  },
  "language_info": {
   "codemirror_mode": {
    "name": "ipython",
    "version": 3
   },
   "file_extension": ".py",
   "mimetype": "text/x-python",
   "name": "python",
   "nbconvert_exporter": "python",
   "pygments_lexer": "ipython3",
   "version": "3.10.0"
  },
  "orig_nbformat": 4
 },
 "nbformat": 4,
 "nbformat_minor": 2
}
