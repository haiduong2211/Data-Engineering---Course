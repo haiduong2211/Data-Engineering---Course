{
 "cells": [
  {
   "cell_type": "code",
   "execution_count": null,
   "metadata": {},
   "outputs": [],
   "source": [
    "#Knapsack with repeat (and divided) - recursion\n",
    "'Recursion approach'\n",
    "W = int(input(\"\"))\n",
    "weights  = [6,3,4,2]\n",
    "values = [30,14,16,9]\n",
    "\n",
    "def KnapsackRep(W,idx):\n",
    "    if idx == 0:\n",
    "        return int(W/weights[0]*values[0])\n",
    "    NoTake = 0 + KnapsackRep(W,idx-1)\n",
    "    Take = 0\n",
    "    if weights[idx] <= W:\n",
    "        Take = values[idx] + KnapsackRep(W - weights[idx],idx-1)\n",
    "    return max(Take,NoTake)\n",
    "    \n",
    "\n",
    "print(KnapsackRep(W,len(weights)-1))\n",
    "     "
   ]
  },
  {
   "cell_type": "code",
   "execution_count": null,
   "metadata": {},
   "outputs": [],
   "source": [
    "#Knapsack with repeat - recursion\n",
    "'Recursion approach'\n",
    "W = int(input(\"\"))\n",
    "weights  = [6,3,4,2]\n",
    "values = [30,14,16,9]\n",
    "\n",
    "def KnapsackRep(W):\n",
    "    value = [0]\n",
    "    for w in range(1,W+1):\n",
    "        value.append(w)\n",
    "        for i in range(0,len(weights)):\n",
    "            if weights[i]<= w:# Nếu khối lượng của vật phẩm hiện tại bé hơn khối lượng còn lại trong túi\n",
    "                val = int(value[w-i]+values[w])\n",
    "                if val > value[w]:\n",
    "                    value[w] = value\n",
    "    print(value)\n",
    "    return value[W]\n",
    "print(KnapsackRep(W))"
   ]
  },
  {
   "cell_type": "code",
   "execution_count": null,
   "metadata": {},
   "outputs": [],
   "source": [
    "#Knapsack without repeat - Recursion\n",
    "W = int(input(\"\"))\n",
    "weights  = [6,3,4,2]\n",
    "values = [30,14,16,9]\n",
    "\n",
    "'Recursion Approach'\n",
    "def KnapsackRep(W,ItemNo): \n",
    "    if W == 0 or ItemNo == len(weights): #Base Case\n",
    "        return 0\n",
    "    if weights[ItemNo] > W:\n",
    "        return KnapsackRep(W,ItemNo+1)\n",
    "    rMax = values[ItemNo] + KnapsackRep(W-weights[ItemNo],ItemNo+1)\n",
    "    lMax = KnapsackRep(W,ItemNo+1)\n",
    "\n",
    "    return max(rMax,lMax)\n",
    "print(KnapsackRep(W,0))\n",
    "\n",
    "\n",
    "     "
   ]
  },
  {
   "cell_type": "code",
   "execution_count": 66,
   "metadata": {},
   "outputs": [
    {
     "name": "stdout",
     "output_type": "stream",
     "text": [
      "60\n"
     ]
    }
   ],
   "source": [
    "#Knapsack without repeat - Recursion\n",
    "\n",
    "'Recursion approach'\n",
    "W = int(input(\"\"))\n",
    "weights  = [6,3,4,2]\n",
    "values = [30,14,16,9]\n",
    "\n",
    "def KnapsackRep(W,n):\n",
    "    if n == 0 or W == 0:\n",
    "        return 0\n",
    "    if (weights[n-1]>W):\n",
    "        return KnapsackRep(W,n-1)\n",
    "    else:\n",
    "        return max(values[n-1]+KnapsackRep(W-weights[n-1],n-1),KnapsackRep(W,n-1))\n",
    "    \n",
    "\n",
    "print(KnapsackRep(W,len(weights)))"
   ]
  }
 ],
 "metadata": {
  "interpreter": {
   "hash": "49ed69d14c5bafd33dd9e3625d3b76637c4ab0eb3e78e730b1c53bf7385e46f6"
  },
  "kernelspec": {
   "display_name": "Python 3.10.0 64-bit",
   "language": "python",
   "name": "python3"
  },
  "language_info": {
   "codemirror_mode": {
    "name": "ipython",
    "version": 3
   },
   "file_extension": ".py",
   "mimetype": "text/x-python",
   "name": "python",
   "nbconvert_exporter": "python",
   "pygments_lexer": "ipython3",
   "version": "3.10.0"
  },
  "orig_nbformat": 4
 },
 "nbformat": 4,
 "nbformat_minor": 2
}
