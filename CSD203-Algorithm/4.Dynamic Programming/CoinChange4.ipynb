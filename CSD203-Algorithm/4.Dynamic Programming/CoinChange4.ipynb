{
 "cells": [
  {
   "cell_type": "code",
   "execution_count": 15,
   "metadata": {},
   "outputs": [
    {
     "name": "stdout",
     "output_type": "stream",
     "text": [
      "[0, 1]\n",
      "[0, 1]\n",
      "[0, 1, 2]\n",
      "[0, 1, 2]\n",
      "[0, 1, 2, 3]\n",
      "[0, 1, 2, 1]\n",
      "[0, 1, 2, 1, 2]\n",
      "[0, 1, 2, 1, 2]\n",
      "[0, 1, 2, 1, 2, 3]\n",
      "[0, 1, 2, 1, 2, 3]\n",
      "[0, 1, 2, 1, 2, 1, 2]\n",
      "[0, 1, 2, 1, 2, 1, 2]\n",
      "[0, 1, 2, 1, 2, 1, 2, 3]\n",
      "[0, 1, 2, 1, 2, 1, 2, 3]\n",
      "[0, 1, 2, 1, 2, 1, 2, 3, 4]\n",
      "[0, 1, 2, 1, 2, 1, 2, 3, 2]\n",
      "[0, 1, 2, 1, 2, 1, 2, 3, 2, 3]\n",
      "[0, 1, 2, 1, 2, 1, 2, 3, 2, 3]\n",
      "[0, 1, 2, 1, 2, 1, 2, 3, 2, 3, 4]\n",
      "[0, 1, 2, 1, 2, 1, 2, 3, 2, 3, 4]\n",
      "[0, 1, 2, 1, 2, 1, 2, 3, 2, 3, 2, 3]\n",
      "[0, 1, 2, 1, 2, 1, 2, 3, 2, 3, 2, 3]\n",
      "[0, 1, 2, 1, 2, 1, 2, 3, 2, 3, 2, 3, 4]\n",
      "[0, 1, 2, 1, 2, 1, 2, 3, 2, 3, 2, 3, 4]\n",
      "[0, 1, 2, 1, 2, 1, 2, 3, 2, 3, 2, 3, 4, 5]\n",
      "[0, 1, 2, 1, 2, 1, 2, 3, 2, 3, 2, 3, 4, 3]\n",
      "[0, 1, 2, 1, 2, 1, 2, 3, 2, 3, 2, 3, 4, 3, 4]\n",
      "[0, 1, 2, 1, 2, 1, 2, 3, 2, 3, 2, 3, 4, 3, 4]\n",
      "[0, 1, 2, 1, 2, 1, 2, 3, 2, 3, 2, 3, 4, 3, 4, 5]\n",
      "[0, 1, 2, 1, 2, 1, 2, 3, 2, 3, 2, 3, 4, 3, 4, 5]\n",
      "[0, 1, 2, 1, 2, 1, 2, 3, 2, 3, 2, 3, 4, 3, 4, 3, 4]\n",
      "[0, 1, 2, 1, 2, 1, 2, 3, 2, 3, 2, 3, 4, 3, 4, 3, 4]\n",
      "[0, 1, 2, 1, 2, 1, 2, 3, 2, 3, 2, 3, 4, 3, 4, 3, 4, 5]\n",
      "[0, 1, 2, 1, 2, 1, 2, 3, 2, 3, 2, 3, 4, 3, 4, 3, 4, 5]\n",
      "[0, 1, 2, 1, 2, 1, 2, 3, 2, 3, 2, 3, 4, 3, 4, 3, 4, 5, 6]\n",
      "[0, 1, 2, 1, 2, 1, 2, 3, 2, 3, 2, 3, 4, 3, 4, 3, 4, 5, 4]\n",
      "[0, 1, 2, 1, 2, 1, 2, 3, 2, 3, 2, 3, 4, 3, 4, 3, 4, 5, 4, 5]\n",
      "[0, 1, 2, 1, 2, 1, 2, 3, 2, 3, 2, 3, 4, 3, 4, 3, 4, 5, 4, 5]\n",
      "5\n"
     ]
    }
   ],
   "source": [
    "a = [1,3,5]\n",
    "x = 19\n",
    "\n",
    "MinNumCoins=[]\n",
    "MinNumCoins.append(0)\n",
    "def DPChange(a,x):\n",
    "    for m in range(1,x+1):\n",
    "        MinNumCoins.append(float('inf'))\n",
    "        for i in a:\n",
    "            if m >= i:\n",
    "                NumCoins = MinNumCoins[m-i]+1\n",
    "                if NumCoins <MinNumCoins[m]:\n",
    "                    MinNumCoins[m] = NumCoins\n",
    "    return MinNumCoins[x]\n",
    "print(DPChange(a,x))"
   ]
  }
 ],
 "metadata": {
  "interpreter": {
   "hash": "49ed69d14c5bafd33dd9e3625d3b76637c4ab0eb3e78e730b1c53bf7385e46f6"
  },
  "kernelspec": {
   "display_name": "Python 3.10.0 64-bit",
   "language": "python",
   "name": "python3"
  },
  "language_info": {
   "codemirror_mode": {
    "name": "ipython",
    "version": 3
   },
   "file_extension": ".py",
   "mimetype": "text/x-python",
   "name": "python",
   "nbconvert_exporter": "python",
   "pygments_lexer": "ipython3",
   "version": "3.10.0"
  },
  "orig_nbformat": 4
 },
 "nbformat": 4,
 "nbformat_minor": 2
}
