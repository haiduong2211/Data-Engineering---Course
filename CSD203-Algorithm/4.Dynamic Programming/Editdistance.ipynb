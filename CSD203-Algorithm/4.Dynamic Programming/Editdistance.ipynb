{
 "cells": [
  {
   "cell_type": "code",
   "execution_count": 14,
   "metadata": {},
   "outputs": [
    {
     "name": "stdout",
     "output_type": "stream",
     "text": [
      "1\n"
     ]
    }
   ],
   "source": [
    "wordl = input(\"A: \")\n",
    "word2 = input(\"B: \")\n",
    "A = []\n",
    "[A.append(a) for a in wordl]\n",
    "B=[]\n",
    "[B.append(b) for b in word2]\n",
    "\n",
    "\n",
    "def EditDistance(A,B):\n",
    "    m = len(A)\n",
    "    n = len(B)\n",
    "    table = [[0] * (n+1) for _ in range(m+1)]\n",
    "\n",
    "    for i in range(m+1):\n",
    "        table[i][0]= i\n",
    "    for j in range(n+1):\n",
    "        table[0][j] = j\n",
    "    \n",
    "    for i in range(1,m+1):\n",
    "        for j in range(1,n+1):\n",
    "            if A[i-1] == B[j-1]:\n",
    "                table[i][j] = table[i-1][j-1]\n",
    "            else:\n",
    "                table [i][j] = 1 + min(table[i][j-1],table[i-1][j],table[i-1][j-1])\n",
    "    return table[-1][-1]\n",
    "\n",
    "print(EditDistance(A,B))\n",
    "\n",
    "\n",
    "    "
   ]
  },
  {
   "cell_type": "code",
   "execution_count": 5,
   "metadata": {},
   "outputs": [
    {
     "name": "stdout",
     "output_type": "stream",
     "text": [
      "4\n"
     ]
    }
   ],
   "source": [
    "class Solution:\n",
    "    def minDistance(self, word1, word2):\n",
    "        \"\"\"Naive recursive solution\"\"\"\n",
    "        if not word1 and not word2:\n",
    "            return 0\n",
    "        if not word1:\n",
    "            return len(word2)\n",
    "        if not word2:\n",
    "            return len(word1)\n",
    "        if word1[0] == word2[0]:\n",
    "            return self.minDistance(word1[1:], word2[1:])\n",
    "        insert = 1 + self.minDistance(word1, word2[1:])\n",
    "        delete = 1 + self.minDistance(word1[1:], word2)\n",
    "        replace = 1 + self.minDistance(word1[1:], word2[1:])\n",
    "        return min(insert, replace, delete)\n",
    "\n",
    "T = Solution()\n",
    "print(T.minDistance(\"Hello\",\"Horse                                                                                                                   \"))\n"
   ]
  },
  {
   "cell_type": "code",
   "execution_count": 21,
   "metadata": {},
   "outputs": [
    {
     "data": {
      "text/plain": [
       "3"
      ]
     },
     "execution_count": 21,
     "metadata": {},
     "output_type": "execute_result"
    }
   ],
   "source": [
    "word1 = \"break\"\n",
    "word2 = \"ready\"\n",
    "def minDistance(word1, word2):\n",
    "    \"\"\"Dynamic programming solution\"\"\"\n",
    "    m = len(word1)\n",
    "    n = len(word2)\n",
    "    table = [[0] * (n + 1) for _ in range(m + 1)]\n",
    "\n",
    "    for i in range(m + 1):\n",
    "        table[i][0] = i\n",
    "    for j in range(n + 1):\n",
    "        table[0][j] = j\n",
    "\n",
    "    for i in range(1, m + 1):\n",
    "        for j in range(1, n + 1):\n",
    "            if word1[i - 1] == word2[j - 1]:\n",
    "                table[i][j] = table[i - 1][j - 1]\n",
    "            else:\n",
    "                table[i][j] = 1 + min(table[i - 1][j], table[i][j - 1], table[i - 1][j - 1])\n",
    "    return table[-1][-1]\n",
    "minDistance(word1,word2)\n"
   ]
  },
  {
   "cell_type": "code",
   "execution_count": null,
   "metadata": {},
   "outputs": [],
   "source": [
    "\n",
    "def minDistance(self, word1, word2, i, j, memo):\n",
    "    \"\"\"Memoized solution\"\"\"\n",
    "    if i == len(word1) and j == len(word2):\n",
    "        return 0\n",
    "    if i == len(word1):\n",
    "        return len(word2) - j\n",
    "    if j == len(word2):\n",
    "        return len(word1) - i\n",
    "\n",
    "    if (i, j) not in memo:\n",
    "        if word1[i] == word2[j]:\n",
    "            ans = self.minDistance2(word1, word2, i + 1, j + 1, memo)\n",
    "        else: \n",
    "            insert = 1 + self.minDistance2(word1, word2, i, j + 1, memo)\n",
    "            delete = 1 + self.minDistance2(word1, word2, i + 1, j, memo)\n",
    "            replace = 1 + self.minDistance2(word1, word2, i + 1, j + 1, memo)\n",
    "            ans = min(insert, delete, replace)\n",
    "        memo[(i, j)] = ans\n",
    "    return memo[(i, j)]\n",
    "\n"
   ]
  }
 ],
 "metadata": {
  "interpreter": {
   "hash": "49ed69d14c5bafd33dd9e3625d3b76637c4ab0eb3e78e730b1c53bf7385e46f6"
  },
  "kernelspec": {
   "display_name": "Python 3.10.0 64-bit",
   "language": "python",
   "name": "python3"
  },
  "language_info": {
   "codemirror_mode": {
    "name": "ipython",
    "version": 3
   },
   "file_extension": ".py",
   "mimetype": "text/x-python",
   "name": "python",
   "nbconvert_exporter": "python",
   "pygments_lexer": "ipython3",
   "version": "3.10.0"
  },
  "orig_nbformat": 4
 },
 "nbformat": 4,
 "nbformat_minor": 2
}
