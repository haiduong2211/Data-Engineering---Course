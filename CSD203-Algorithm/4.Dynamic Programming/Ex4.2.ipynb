{
 "cells": [
  {
   "cell_type": "code",
   "execution_count": null,
   "metadata": {},
   "outputs": [],
   "source": [
    "#Bài 75 codelearn\n",
    "a = [1,5,7]\n",
    "n = 14\n",
    "\n",
    "def coin_change(a,rem):\n",
    "    cache = {}\n",
    "    if rem < 0: return -1 #No solution\n",
    "    if rem  == 0 : return 0\n",
    "    if rem in cache:\n",
    "        return cache[rem]\n",
    "\n",
    "print(coin_change(a,n))\n",
    "\n"
   ]
  },
  {
   "cell_type": "code",
   "execution_count": 4,
   "metadata": {},
   "outputs": [
    {
     "ename": "IndexError",
     "evalue": "list index out of range",
     "output_type": "error",
     "traceback": [
      "\u001b[1;31m---------------------------------------------------------------------------\u001b[0m",
      "\u001b[1;31mIndexError\u001b[0m                                Traceback (most recent call last)",
      "\u001b[1;32mc:\\Users\\Duong Nguyen\\Desktop\\DE\\Algorithm\\4.Dynamic Programming\\Ex4.2.ipynb Cell 2'\u001b[0m in \u001b[0;36m<cell line: 5>\u001b[1;34m()\u001b[0m\n\u001b[0;32m      <a href='vscode-notebook-cell:/c%3A/Users/Duong%20Nguyen/Desktop/DE/Algorithm/4.Dynamic%20Programming/Ex4.2.ipynb#ch0000001?line=3'>4</a>\u001b[0m b \u001b[39m=\u001b[39m [\u001b[39m0\u001b[39m] \u001b[39m*\u001b[39m \u001b[39m1000\u001b[39m\n\u001b[0;32m      <a href='vscode-notebook-cell:/c%3A/Users/Duong%20Nguyen/Desktop/DE/Algorithm/4.Dynamic%20Programming/Ex4.2.ipynb#ch0000001?line=4'>5</a>\u001b[0m \u001b[39mfor\u001b[39;00m i \u001b[39min\u001b[39;00m \u001b[39mrange\u001b[39m(n):\n\u001b[1;32m----> <a href='vscode-notebook-cell:/c%3A/Users/Duong%20Nguyen/Desktop/DE/Algorithm/4.Dynamic%20Programming/Ex4.2.ipynb#ch0000001?line=5'>6</a>\u001b[0m     b[a[i]] \u001b[39m=\u001b[39m \u001b[39m1\u001b[39m\n\u001b[0;32m      <a href='vscode-notebook-cell:/c%3A/Users/Duong%20Nguyen/Desktop/DE/Algorithm/4.Dynamic%20Programming/Ex4.2.ipynb#ch0000001?line=6'>7</a>\u001b[0m x \u001b[39m=\u001b[39m \u001b[39mint\u001b[39m(\u001b[39minput\u001b[39m())\n\u001b[0;32m      <a href='vscode-notebook-cell:/c%3A/Users/Duong%20Nguyen/Desktop/DE/Algorithm/4.Dynamic%20Programming/Ex4.2.ipynb#ch0000001?line=8'>9</a>\u001b[0m \u001b[39mfor\u001b[39;00m i \u001b[39min\u001b[39;00m \u001b[39mrange\u001b[39m(\u001b[39m1\u001b[39m, x \u001b[39m+\u001b[39m \u001b[39m1\u001b[39m):\n",
      "\u001b[1;31mIndexError\u001b[0m: list index out of range"
     ]
    }
   ],
   "source": [
    "n = int(input())\n",
    "a = []\n",
    "b = [0] * 1000\n",
    "for i in range(n):\n",
    "    a.append(int(input()))\n",
    "    b[a[i]] = 1\n",
    "x = int(input())\n",
    "\n",
    "for i in range(1, x + 1):\n",
    "    for j in range(n):\n",
    "        if (b[i] > b[i-a[j]] + 1 and b[i-a[j]] != 0) or (b[i] == 0 and b[i-a[j]] != 0):\n",
    "            b[i] = b[i-a[j]] + 1\n",
    "print(b[x])"
   ]
  },
  {
   "cell_type": "code",
   "execution_count": null,
   "metadata": {},
   "outputs": [],
   "source": [
    "a = [1,2,8,10]\n",
    "n = 25\n",
    "#Topdown -> Memoize\n",
    "def coinChange(coins: 'List[int]', amount: 'int') -> 'int':\n",
    "        dp = [0] + [float('inf') for i in range(amount)] #Tạo array nhớ\n",
    "        for i in range(1, amount+1):\n",
    "            for coin in coins:\n",
    "                if i - coin >= 0:\n",
    "                    dp[i] = min(dp[i], dp[i-coin] + 1)\n",
    "            print(i,dp)\n",
    "        if dp[-1] == float('inf'):\n",
    "            return -1\n",
    "        return dp[-1]\n",
    "\n",
    "\n",
    "print(coinChange(a,n))"
   ]
  },
  {
   "cell_type": "code",
   "execution_count": null,
   "metadata": {},
   "outputs": [],
   "source": [
    "\n",
    "x = int(input(\"Các loại đồng xu\"))\n",
    "for i in range(x):\n",
    "    a.append(int(input()))\n",
    "n = int(input())\n",
    "#Topdown -> Memoize\n",
    "def coinChange(coins: 'List[int]', amount: 'int') -> 'int':\n",
    "        dp = [0] + [float('inf') for i in range(amount)] #Tạo array nhớ\n",
    "        for i in range(1, amount+1):\n",
    "            for coin in coins:\n",
    "                if i - coin >= 0:\n",
    "                    dp[i] = min(dp[i], dp[i-coin] + 1)\n",
    "            print(i,dp)\n",
    "        if dp[-1] == float('inf'):\n",
    "            return -1\n",
    "        return dp[-1]\n",
    "\n",
    "\n",
    "print(coinChange(a,n))"
   ]
  }
 ],
 "metadata": {
  "interpreter": {
   "hash": "49ed69d14c5bafd33dd9e3625d3b76637c4ab0eb3e78e730b1c53bf7385e46f6"
  },
  "kernelspec": {
   "display_name": "Python 3.10.0 64-bit",
   "language": "python",
   "name": "python3"
  },
  "language_info": {
   "codemirror_mode": {
    "name": "ipython",
    "version": 3
   },
   "file_extension": ".py",
   "mimetype": "text/x-python",
   "name": "python",
   "nbconvert_exporter": "python",
   "pygments_lexer": "ipython3",
   "version": "3.10.0"
  },
  "orig_nbformat": 4
 },
 "nbformat": 4,
 "nbformat_minor": 2
}
