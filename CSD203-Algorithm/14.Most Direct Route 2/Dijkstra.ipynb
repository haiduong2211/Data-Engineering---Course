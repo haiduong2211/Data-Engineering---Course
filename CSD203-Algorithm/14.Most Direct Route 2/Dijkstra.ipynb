{
 "cells": [
  {
   "cell_type": "code",
   "execution_count": null,
   "metadata": {},
   "outputs": [],
   "source": [
    "import sys\n",
    "\n",
    "# Providing the graph\n",
    "vertices = [[0, 0, 1, 1, 0, 0, 0],\n",
    "            [0, 0, 1, 0, 0, 1, 0],\n",
    "            [1, 1, 0, 1, 1, 0, 0],\n",
    "            [1, 0, 1, 0, 0, 0, 1],\n",
    "            [0, 0, 1, 0, 0, 1, 0],\n",
    "            [0, 1, 0, 0, 1, 0, 1],\n",
    "            [0, 0, 0, 1, 0, 1, 0]]\n",
    "\n",
    "edges = [[0, 0, 1, 2, 0, 0, 0],\n",
    "         [0, 0, 2, 0, 0, 3, 0],\n",
    "         [1, 2, 0, 1, 3, 0, 0],\n",
    "         [2, 0, 1, 0, 0, 0, 1],\n",
    "         [0, 0, 3, 0, 0, 2, 0],\n",
    "         [0, 3, 0, 0, 2, 0, 1],\n",
    "         [0, 0, 0, 1, 0, 1, 0]]\n",
    "\n",
    "# Find which vertex is to be visited next\n",
    "def to_be_visited():\n",
    "    global visited_and_distance\n",
    "    v = -10\n",
    "    for index in range(num_of_vertices):\n",
    "        if visited_and_distance[index][0] == 0 \\\n",
    "            and (v < 0 or visited_and_distance[index][1] <=\n",
    "                 visited_and_distance[v][1]):\n",
    "            v = index\n",
    "    return v\n",
    "\n",
    "num_of_vertices = len(vertices[0])\n",
    "\n",
    "visited_and_distance = [[0, 0]]\n",
    "for i in range(num_of_vertices-1):\n",
    "    visited_and_distance.append([0, sys.maxsize])\n",
    "\n",
    "for vertex in range(num_of_vertices):\n",
    "\n",
    "    # Find next vertex to be visited\n",
    "    to_visit = to_be_visited()\n",
    "    for neighbor_index in range(num_of_vertices):\n",
    "\n",
    "        # Updating new distances\n",
    "        if vertices[to_visit][neighbor_index] == 1 and \\\n",
    "                visited_and_distance[neighbor_index][0] == 0:\n",
    "            new_distance = visited_and_distance[to_visit][1] \\\n",
    "                + edges[to_visit][neighbor_index]\n",
    "            if visited_and_distance[neighbor_index][1] > new_distance:\n",
    "                visited_and_distance[neighbor_index][1] = new_distance\n",
    "        \n",
    "        visited_and_distance[to_visit][0] = 1\n",
    "\n",
    "i = 0\n",
    "\n",
    "# Printing the distance\n",
    "for distance in visited_and_distance:\n",
    "    print(\"Distance of \", chr(ord('a') + i),\n",
    "          \" from source vertex: \", distance[1])\n",
    "    i = i + 1"
   ]
  },
  {
   "cell_type": "code",
   "execution_count": 5,
   "metadata": {},
   "outputs": [
    {
     "name": "stdout",
     "output_type": "stream",
     "text": [
      "[inf, inf, inf, inf, inf]\n"
     ]
    }
   ],
   "source": [
    "dist = []\n",
    "prev = []\n",
    "number_of_vertex = 5\n",
    "for u in range(number_of_vertex):\n",
    "    dist.append(float('inf'))\n",
    "    prev.append(-1)\n",
    "\n",
    "H <- makeQueue(V)\n",
    "\n",
    "\n",
    "dist[0]  = 0\n",
    "\n",
    "\n",
    "print(dist)"
   ]
  }
 ],
 "metadata": {
  "kernelspec": {
   "display_name": "Python 3.10.0 64-bit",
   "language": "python",
   "name": "python3"
  },
  "language_info": {
   "codemirror_mode": {
    "name": "ipython",
    "version": 3
   },
   "file_extension": ".py",
   "mimetype": "text/x-python",
   "name": "python",
   "nbconvert_exporter": "python",
   "pygments_lexer": "ipython3",
   "version": "3.10.0"
  },
  "orig_nbformat": 4,
  "vscode": {
   "interpreter": {
    "hash": "49ed69d14c5bafd33dd9e3625d3b76637c4ab0eb3e78e730b1c53bf7385e46f6"
   }
  }
 },
 "nbformat": 4,
 "nbformat_minor": 2
}
