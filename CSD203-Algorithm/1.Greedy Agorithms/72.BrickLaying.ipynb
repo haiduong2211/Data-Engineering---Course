{
 "cells": [
  {
   "cell_type": "code",
   "execution_count": 5,
   "metadata": {},
   "outputs": [
    {
     "name": "stdout",
     "output_type": "stream",
     "text": [
      "1 1\n",
      "3\n"
     ]
    }
   ],
   "source": [
    "#n= int(input())\n",
    "a=[1,1,2,1,1]\n",
    "#for i in range (0,n):\n",
    " #   a.append(int(input()))\n",
    "a.sort(reverse=True) #Sắp xếp từ lớn đến bé\n",
    "\n",
    "maxbrick = a[0]+1\n",
    "lastavaibrick = a[0] #đây là index\n",
    "count = 0\n",
    "\n",
    "for i in range(len(a)): \n",
    "    if count ==0:#Nếu là viên đầu tiên\n",
    "        count +=1\n",
    "\n",
    "        continue\n",
    "    elif (i==lastavaibrick): #index = số lượng viên hiện tại - 1\n",
    "            count+=1 #Nếu đây là viên cuối cùng có thể đặt thì đặt nó lên \n",
    "            break\n",
    "    else: #a[i] + i là số viên tối đa có thể xếp tính từ vị trí i\n",
    "        if (a[i] + i)<=lastavaibrick: #Nếu số lượng tối đa có thể tại vị trí i + với \n",
    "            lastavaibrick = a[i]+ i\n",
    "            count +=1\n",
    "            print(a[i],i)\n",
    "        elif (a[i] + i)>lastavaibrick:\n",
    "            count+=1\n",
    "print(count)"
   ]
  },
  {
   "cell_type": "code",
   "execution_count": null,
   "metadata": {},
   "outputs": [],
   "source": [
    "Các điều kiện phải check:\n",
    "1. Maxbrick a[0]\n",
    "2. avaiable rock!\n",
    "3. dựa vào index để check điều kiện 1 lần nữa\n",
    "4. Check vị trí available cuối cùng của brick"
   ]
  },
  {
   "cell_type": "code",
   "execution_count": 2,
   "metadata": {},
   "outputs": [
    {
     "name": "stdout",
     "output_type": "stream",
     "text": [
      "3\n"
     ]
    }
   ],
   "source": [
    "n = int(input())\n",
    "a = []\n",
    "for i in range (n):\n",
    "    a.append(int(input()))\n",
    "a.sort(reverse=True) #Sắp xếp từ lớn đến bé\n",
    "\n",
    "maxbrick = a[0]+1\n",
    "lastavaibrick = a[0] #đây là index\n",
    "count = 0\n",
    "\n",
    "for i in range(len(a)):\n",
    "    if count ==0:\n",
    "        count +=1\n",
    "        continue\n",
    "    elif(i==lastavaibrick):\n",
    "            count+=1\n",
    "            break\n",
    "    else:\n",
    "        if (a[i] + i)<=lastavaibrick:\n",
    "            lastavaibrick = a[i]+ i\n",
    "            count +=1\n",
    "        elif (a[i] + i)>lastavaibrick:\n",
    "            count+=1\n",
    "print(count)"
   ]
  }
 ],
 "metadata": {
  "interpreter": {
   "hash": "49ed69d14c5bafd33dd9e3625d3b76637c4ab0eb3e78e730b1c53bf7385e46f6"
  },
  "kernelspec": {
   "display_name": "Python 3.10.0 64-bit",
   "language": "python",
   "name": "python3"
  },
  "language_info": {
   "codemirror_mode": {
    "name": "ipython",
    "version": 3
   },
   "file_extension": ".py",
   "mimetype": "text/x-python",
   "name": "python",
   "nbconvert_exporter": "python",
   "pygments_lexer": "ipython3",
   "version": "3.10.0"
  },
  "orig_nbformat": 4
 },
 "nbformat": 4,
 "nbformat_minor": 2
}
