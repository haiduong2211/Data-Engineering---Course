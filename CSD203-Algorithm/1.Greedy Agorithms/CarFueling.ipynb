{
 "cells": [
  {
   "cell_type": "code",
   "execution_count": 9,
   "metadata": {},
   "outputs": [
    {
     "name": "stdout",
     "output_type": "stream",
     "text": [
      "0\n",
      "2\n",
      "3\n",
      "4\n",
      "5\n",
      "4\n"
     ]
    }
   ],
   "source": [
    "def Refill(x,n,L):\n",
    "    numRefills = 0\n",
    "    currentRefil = 0\n",
    "    lastRefill = 0\n",
    "    while currentRefil <=n:\n",
    "        lastRefill = currentRefil\n",
    "        print(lastRefill)\n",
    "        while (currentRefil <=n) and (x[currentRefil +1] - x[lastRefill] <= L):\n",
    "            currentRefil += 1\n",
    "        if currentRefil == lastRefill:\n",
    "            return \"Impossible\"\n",
    "        if currentRefil <=n:\n",
    "            numRefills += 1\n",
    "    return numRefills\n",
    "\n",
    "x = [0,10,14,20,30,40,54]\n",
    "print (Refill(x,5,15))"
   ]
  }
 ],
 "metadata": {
  "interpreter": {
   "hash": "49ed69d14c5bafd33dd9e3625d3b76637c4ab0eb3e78e730b1c53bf7385e46f6"
  },
  "kernelspec": {
   "display_name": "Python 3.10.0 64-bit",
   "language": "python",
   "name": "python3"
  },
  "language_info": {
   "codemirror_mode": {
    "name": "ipython",
    "version": 3
   },
   "file_extension": ".py",
   "mimetype": "text/x-python",
   "name": "python",
   "nbconvert_exporter": "python",
   "pygments_lexer": "ipython3",
   "version": "3.10.0"
  },
  "orig_nbformat": 4
 },
 "nbformat": 4,
 "nbformat_minor": 2
}
