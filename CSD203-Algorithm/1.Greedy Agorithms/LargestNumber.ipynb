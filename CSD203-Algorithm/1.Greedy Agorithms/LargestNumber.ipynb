{
 "cells": [
  {
   "cell_type": "code",
   "execution_count": 2,
   "metadata": {},
   "outputs": [
    {
     "name": "stdout",
     "output_type": "stream",
     "text": [
      "[9, 9, 7, 5, 5, 1]\n",
      "997551\n"
     ]
    }
   ],
   "source": [
    "m = input(\"Input your number\")\n",
    "lst = []\n",
    "lst2 =[]\n",
    "for i in m:\n",
    "    lst.append(int(i))\n",
    "while len(lst) !=0:\n",
    "    a = max(lst)\n",
    "    lst2.append(a)\n",
    "    lst.remove(a)\n",
    "    \n",
    "print(lst2)\n",
    "lst2 = int(\"\".join([str(b) for b in lst2]))\n",
    "print(lst2)\n"
   ]
  }
 ],
 "metadata": {
  "interpreter": {
   "hash": "49ed69d14c5bafd33dd9e3625d3b76637c4ab0eb3e78e730b1c53bf7385e46f6"
  },
  "kernelspec": {
   "display_name": "Python 3.10.0 64-bit",
   "language": "python",
   "name": "python3"
  },
  "language_info": {
   "codemirror_mode": {
    "name": "ipython",
    "version": 3
   },
   "file_extension": ".py",
   "mimetype": "text/x-python",
   "name": "python",
   "nbconvert_exporter": "python",
   "pygments_lexer": "ipython3",
   "version": "3.10.0"
  },
  "orig_nbformat": 4
 },
 "nbformat": 4,
 "nbformat_minor": 2
}
