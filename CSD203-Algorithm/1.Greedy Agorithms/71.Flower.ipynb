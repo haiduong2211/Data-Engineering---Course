{
 "cells": [
  {
   "cell_type": "code",
   "execution_count": 21,
   "metadata": {},
   "outputs": [
    {
     "name": "stdout",
     "output_type": "stream",
     "text": [
      "5\n"
     ]
    }
   ],
   "source": [
    "#Nhập n(số hoa) và a(Thời gian nở cửa từng hoa)\n",
    "n= int(input())\n",
    "a=[]\n",
    "for i in range (0,n):\n",
    "    a.append(int(input()))\n",
    "    \n",
    "a.sort(reverse=True) #Sắp xếp từ lớn đến bé\n",
    "bloomday = a[0] + 1\n",
    "seedday = 1\n",
    "for i in a:\n",
    "    if bloomday - seedday <= i:\n",
    "        bloomday = seedday +i\n",
    "    seedday +=1\n",
    "        \n",
    "print(bloomday)"
   ]
  },
  {
   "cell_type": "code",
   "execution_count": 3,
   "metadata": {},
   "outputs": [
    {
     "name": "stdout",
     "output_type": "stream",
     "text": [
      "4\n",
      "0\n",
      "[1, 1, 3, 4]\n"
     ]
    }
   ],
   "source": [
    "a=[4, 1, 3, 1]\n",
    "print(len(a))\n",
    "print(a.index(max(a)))\n",
    "a.sort()\n",
    "print(a)"
   ]
  }
 ],
 "metadata": {
  "interpreter": {
   "hash": "49ed69d14c5bafd33dd9e3625d3b76637c4ab0eb3e78e730b1c53bf7385e46f6"
  },
  "kernelspec": {
   "display_name": "Python 3.10.0 64-bit",
   "language": "python",
   "name": "python3"
  },
  "language_info": {
   "codemirror_mode": {
    "name": "ipython",
    "version": 3
   },
   "file_extension": ".py",
   "mimetype": "text/x-python",
   "name": "python",
   "nbconvert_exporter": "python",
   "pygments_lexer": "ipython3",
   "version": "3.10.0"
  },
  "orig_nbformat": 4
 },
 "nbformat": 4,
 "nbformat_minor": 2
}
