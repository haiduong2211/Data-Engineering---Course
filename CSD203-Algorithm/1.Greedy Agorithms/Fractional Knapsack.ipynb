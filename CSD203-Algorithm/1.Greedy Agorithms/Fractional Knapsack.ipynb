{
 "cells": [
  {
   "cell_type": "code",
   "execution_count": 10,
   "metadata": {},
   "outputs": [
    {
     "name": "stdout",
     "output_type": "stream",
     "text": [
      "42.0\n"
     ]
    }
   ],
   "source": [
    "def knapsack(W,w,v):\n",
    "    V = 0\n",
    "    vw = []\n",
    "    for i in range(0,len(w)):\n",
    "        vw.append(v[i]/w[i])\n",
    "    while W>0:\n",
    "        if W == 0:\n",
    "            return V\n",
    "        indexvw = vw.index(max(vw))\n",
    "        if vw[indexvw] ==0:\n",
    "            return V\n",
    "        a = min (w[indexvw],W)\n",
    "        V = V + a*vw[indexvw]\n",
    "        w[indexvw] -= a\n",
    "        vw[indexvw] = 0\n",
    "        W -= a \n",
    "    return V\n",
    "\n",
    "\n",
    "\n",
    "W = 7\n",
    "w=[4,3,2]\n",
    "v = [20,18,14]\n",
    "print(knapsack(W,w,v))"
   ]
  }
 ],
 "metadata": {
  "interpreter": {
   "hash": "49ed69d14c5bafd33dd9e3625d3b76637c4ab0eb3e78e730b1c53bf7385e46f6"
  },
  "kernelspec": {
   "display_name": "Python 3.10.0 64-bit",
   "language": "python",
   "name": "python3"
  },
  "language_info": {
   "codemirror_mode": {
    "name": "ipython",
    "version": 3
   },
   "file_extension": ".py",
   "mimetype": "text/x-python",
   "name": "python",
   "nbconvert_exporter": "python",
   "pygments_lexer": "ipython3",
   "version": "3.10.0"
  },
  "orig_nbformat": 4
 },
 "nbformat": 4,
 "nbformat_minor": 2
}
