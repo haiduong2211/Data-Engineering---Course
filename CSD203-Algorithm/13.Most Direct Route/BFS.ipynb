{
 "cells": [
  {
   "cell_type": "code",
   "execution_count": 12,
   "metadata": {},
   "outputs": [
    {
     "name": "stdout",
     "output_type": "stream",
     "text": [
      "a\n",
      "c\n",
      "b\n",
      "d\n",
      "e\n"
     ]
    }
   ],
   "source": [
    "import collections\n",
    "class graph:\n",
    "    def __init__(self,gdict=None):\n",
    "        if gdict is None:\n",
    "            gdict = {}\n",
    "        self.gdict = gdict\n",
    "def bfs(graph, startnode):\n",
    "# Track the visited and unvisited nodes using queue\n",
    "    seen, queue = set([startnode]), collections.deque([startnode])\n",
    "    while queue:\n",
    "        vertex = queue.popleft()\n",
    "        marked(vertex)\n",
    "        for node in graph[vertex]: #Node là Các đỉnh liền kề với đỉnh Vertex\n",
    "            if node not in seen:\n",
    "                seen.add(node)\n",
    "                queue.append(node)\n",
    "\n",
    "def marked(n):\n",
    "   print(n)\n",
    "\n",
    "# The graph dictionary\n",
    "gdict = { \n",
    "   \"a\" : set([\"b\",\"c\"]),\n",
    "   \"b\" : set([\"a\", \"d\"]),\n",
    "   \"c\" : set([\"a\", \"d\"]),\n",
    "   \"d\" : set([\"e\"]),\n",
    "   \"e\" : set([\"a\"])\n",
    "}\n",
    "bfs(gdict, \"a\")"
   ]
  },
  {
   "cell_type": "code",
   "execution_count": 3,
   "metadata": {},
   "outputs": [
    {
     "name": "stdout",
     "output_type": "stream",
     "text": [
      "deque(['a', 'b'])\n"
     ]
    }
   ],
   "source": [
    "import collections\n",
    "\n",
    "b = collections.deque(['a','b'])\n",
    "print(b)"
   ]
  },
  {
   "cell_type": "code",
   "execution_count": 11,
   "metadata": {},
   "outputs": [
    {
     "name": "stdout",
     "output_type": "stream",
     "text": [
      "{'a': -1, 'b': -1, 'c': -1, 'd': -1, 'e': -1}\n"
     ]
    }
   ],
   "source": [
    "gdict = { \n",
    "   \"a\" : set([\"b\",\"c\"]),\n",
    "   \"b\" : set([\"a\", \"d\"]),\n",
    "   \"c\" : set([\"a\", \"d\"]),\n",
    "   \"d\" : set([\"e\"]),\n",
    "   \"e\" : set([\"a\"])}\n",
    "\n",
    "ndict = gdict\n",
    "for key,value in ndict.items():\n",
    "    ndict[key] = -1\n",
    "\n",
    "print(ndict)"
   ]
  }
 ],
 "metadata": {
  "kernelspec": {
   "display_name": "Python 3.10.0 64-bit",
   "language": "python",
   "name": "python3"
  },
  "language_info": {
   "codemirror_mode": {
    "name": "ipython",
    "version": 3
   },
   "file_extension": ".py",
   "mimetype": "text/x-python",
   "name": "python",
   "nbconvert_exporter": "python",
   "pygments_lexer": "ipython3",
   "version": "3.10.0"
  },
  "orig_nbformat": 4,
  "vscode": {
   "interpreter": {
    "hash": "49ed69d14c5bafd33dd9e3625d3b76637c4ab0eb3e78e730b1c53bf7385e46f6"
   }
  }
 },
 "nbformat": 4,
 "nbformat_minor": 2
}
