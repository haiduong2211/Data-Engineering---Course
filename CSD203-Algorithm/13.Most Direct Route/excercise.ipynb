{
 "cells": [
  {
   "cell_type": "code",
   "execution_count": null,
   "metadata": {},
   "outputs": [],
   "source": [
    "3,[[1, 2], [2, 3]],1,3\n",
    "n = 3 \n",
    "e = [[1,2],[2,3]]\n",
    "u = 1 \n",
    "v = 3\n",
    "\n",
    "class graph:\n",
    "    def __init__(self,gdict=None):\n",
    "        if gdict is None:\n",
    "            gdict = {}\n",
    "        self.gdict = gdict\n",
    "# Check for the visisted and unvisited nodes\n",
    "def dfs(graph, start, visited = None ):\n",
    "    if visited is None:\n",
    "        visited = set()\n",
    "    visited.add(start)\n",
    "    print(start,visited)\n",
    "    for next in graph[start] - visited:\n",
    "        dfs(graph, next, visited)\n",
    "    return visited\n",
    "\n"
   ]
  },
  {
   "cell_type": "code",
   "execution_count": 15,
   "metadata": {},
   "outputs": [
    {
     "name": "stdout",
     "output_type": "stream",
     "text": [
      "True\n"
     ]
    }
   ],
   "source": [
    "def dfs(u,v,n):\n",
    "    global kt\n",
    "    b[u] = False\n",
    "    for i in range(1,n+1):\n",
    "        if a[u][i] and b[i]:\n",
    "            if i == v:\n",
    "                kt = True\n",
    "            dfs(i,v,n)\n",
    "            b[i] = True\n",
    "\n",
    "def check (n,e,u,v):\n",
    "    for i in range(n+1):\n",
    "        b[i] = True\n",
    "    for i in range(1,n+1):\n",
    "        for j in range(1,n+1):\n",
    "            a[i][j] = False\n",
    "    for i in range(len(e)):\n",
    "        a[e[i][0]][e[i][1]] = True\n",
    "    dfs(u,v,n)\n",
    "    return kt\n",
    "n = 3 \n",
    "e = [[1,2],[2,3]]\n",
    "u = 1 \n",
    "v = 3\n",
    "kt = False\n",
    "b = [-1 for i in range(n+1)]\n",
    "a = [[False for i in range(n+1)] for i in range(n+1)]\n",
    "print(check (n,e,u,v))\n",
    "\n"
   ]
  },
  {
   "cell_type": "code",
   "execution_count": null,
   "metadata": {},
   "outputs": [],
   "source": [
    "def check (n,e,u,v):\n",
    "    kt = False\n",
    "    b = [-1 for i in range(n+1)]\n",
    "    a = [[False for i in range(n+1)] for i in range(n+1)]\n",
    "    for i in range(n+1):\n",
    "        b[i] = True\n",
    "    for i in range(1,n+1):\n",
    "        for j in range(1,n+1):\n",
    "            a[i][j] = False\n",
    "    for i in range(len(e)):\n",
    "        a[e[i][0]][e[i][1]] = True\n",
    "    dfs(u,v,n,a,b,kt)\n",
    "    return kt\n",
    "\n",
    "def dfs(u,v,n,a,b,kt):\n",
    "    b[u] = False\n",
    "    for i in range(1,n+1):\n",
    "        if a[u][i] and b[i]:\n",
    "            if i == v:\n",
    "                kt = True\n",
    "            dfs(i,v,n,a,b,kt)\n",
    "            b[i] = True\n",
    "\n"
   ]
  }
 ],
 "metadata": {
  "kernelspec": {
   "display_name": "Python 3.10.0 64-bit",
   "language": "python",
   "name": "python3"
  },
  "language_info": {
   "codemirror_mode": {
    "name": "ipython",
    "version": 3
   },
   "file_extension": ".py",
   "mimetype": "text/x-python",
   "name": "python",
   "nbconvert_exporter": "python",
   "pygments_lexer": "ipython3",
   "version": "3.10.0"
  },
  "orig_nbformat": 4,
  "vscode": {
   "interpreter": {
    "hash": "49ed69d14c5bafd33dd9e3625d3b76637c4ab0eb3e78e730b1c53bf7385e46f6"
   }
  }
 },
 "nbformat": 4,
 "nbformat_minor": 2
}
