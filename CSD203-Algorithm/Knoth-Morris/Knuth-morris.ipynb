{
 "cells": [
  {
   "cell_type": "code",
   "execution_count": null,
   "metadata": {},
   "outputs": [],
   "source": [
    "def findPrefix(pattern,m,prefArray):\n",
    "    length = 0\n",
    "    prefArray[0] = 0\n",
    "    i = 0\n",
    "    n = len(pattern)\n",
    "    while i <n:\n",
    "        if pattern[i] == pattern[length]:\n",
    "            length += 1 \n",
    "            prefArray[i] = length \n",
    "        else:\n",
    "            if length != 0:\n",
    "                length = prefArray[length - 1]\n",
    "                i -= 1\n",
    "                continue \n",
    "            else:\n",
    "                prefArray[i] = 0\n",
    "        i += 1\n",
    "    return 0\n",
    "\n",
    "    \n"
   ]
  },
  {
   "cell_type": "code",
   "execution_count": null,
   "metadata": {},
   "outputs": [],
   "source": [
    "#https://stackoverflow.com/questions/37840651/implementing-knuth-morris-pratt-kmp-algorithm-for-string-matching-with-python\n",
    "def recursive_find_match(i, j, pattern, pattern_track):\n",
    "\n",
    "    if pattern[i] == pattern[j]:\n",
    "        pattern_track.append(i+1)\n",
    "        return {\"append\":pattern_track, \"i\": i+1, \"j\": j+1}\n",
    "    elif pattern[i] != pattern[j] and i == 0:\n",
    "        pattern_track.append(i)\n",
    "        return {\"append\":pattern_track, \"i\": i, \"j\": j+1}\n",
    "\n",
    "    else:\n",
    "        i = pattern_track[i-1]\n",
    "        return recursive_find_match(i, j, pattern, pattern_track)\n",
    "\n",
    "def kmp(str_, pattern):\n",
    "\n",
    "    len_str = len(str_)\n",
    "    len_pattern = len(pattern)\n",
    "    pattern_track = []\n",
    "\n",
    "    if len_pattern == 0:\n",
    "        return\n",
    "    elif len_pattern == 1:\n",
    "        pattern_track = [0]\n",
    "    else:   \n",
    "        pattern_track = [0]\n",
    "        i = 0\n",
    "        j = 1\n",
    "\n",
    "        while j < len_pattern:\n",
    "            data = recursive_find_match(i, j, pattern, pattern_track)\n",
    "\n",
    "            i = data[\"i\"]\n",
    "            j = data[\"j\"]\n",
    "            pattern_track = data[\"append\"]\n",
    "\n",
    "    index_str = 0\n",
    "    index_pattern = 0\n",
    "    match_from = -1\n",
    "\n",
    "    while index_str < len_str:\n",
    "        if index_pattern == len_pattern:\n",
    "            break\n",
    "        if str_[index_str] == pattern[index_pattern]:\n",
    "            if index_pattern == 0:\n",
    "                match_from = index_str\n",
    "\n",
    "            index_pattern += 1\n",
    "            index_str += 1\n",
    "        else:\n",
    "            if index_pattern == 0:\n",
    "                index_str += 1\n",
    "            else:\n",
    "                index_pattern = pattern_track[index_pattern-1]\n",
    "                match_from = index_str - index_pattern"
   ]
  },
  {
   "cell_type": "code",
   "execution_count": 4,
   "metadata": {},
   "outputs": [
    {
     "name": "stdout",
     "output_type": "stream",
     "text": [
      "[1, 2, 3, 4, 5, 6, 7]\n"
     ]
    }
   ],
   "source": [
    "def findPrefix(pattern):\n",
    "    prefArray = [float('inf')]*len(pattern)\n",
    "    prefArray[0] = 0\n",
    "    i = 0\n",
    "    length = 0\n",
    "    while i < len(pattern):\n",
    "        if pattern[i] == pattern[length]:\n",
    "            length +=1\n",
    "            prefArray[i] = length\n",
    "        else: \n",
    "            if length != 0:\n",
    "                length = prefArray[length -1]\n",
    "                i -=1\n",
    "                continue\n",
    "            else:\n",
    "                prefArray[i] = 0\n",
    "        i +=1\n",
    "    return prefArray\n",
    "\n",
    "print(findPrefix(list('DuongDu')))\n"
   ]
  }
 ],
 "metadata": {
  "kernelspec": {
   "display_name": "Python 3.10.0 64-bit",
   "language": "python",
   "name": "python3"
  },
  "language_info": {
   "codemirror_mode": {
    "name": "ipython",
    "version": 3
   },
   "file_extension": ".py",
   "mimetype": "text/x-python",
   "name": "python",
   "nbconvert_exporter": "python",
   "pygments_lexer": "ipython3",
   "version": "3.10.0"
  },
  "orig_nbformat": 4,
  "vscode": {
   "interpreter": {
    "hash": "49ed69d14c5bafd33dd9e3625d3b76637c4ab0eb3e78e730b1c53bf7385e46f6"
   }
  }
 },
 "nbformat": 4,
 "nbformat_minor": 2
}
