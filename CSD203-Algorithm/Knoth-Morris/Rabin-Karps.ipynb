{
 "cells": [
  {
   "cell_type": "code",
   "execution_count": 45,
   "metadata": {},
   "outputs": [
    {
     "name": "stdout",
     "output_type": "stream",
     "text": [
      "0 3 6\n",
      "1 1 4\n",
      "2 4 7\n",
      "3 1 5\n",
      "4 5 3\n",
      "5 9 1\n",
      "6 2 5\n",
      "7 6 10\n",
      "8 5 4\n",
      "9 3 4\n",
      "10 5 6\n",
      "11 8 8\n",
      "12 9 2\n",
      "13 7 4\n",
      "[6]\n",
      "0 x 920000252\n",
      "1 x 920000252\n",
      "2 x 920000252\n",
      "[0, 1, 2, 3]\n"
     ]
    }
   ],
   "source": [
    "def Rabin_Karp_Matcher(text, pattern, d, q):\n",
    "    n = len(text)\n",
    "    m = len(pattern)\n",
    "    h = pow(d,m-1)%q\n",
    "    p = 0\n",
    "    t = 0\n",
    "    result = []\n",
    "    for i in range(m): # precomputing p and t\n",
    "        p = (d*p+ord(pattern[i]))%q\n",
    "        t = (d*t+ord(text[i]))%q\n",
    "    for s in range(n-m+1): # note the +1: for the index\n",
    "        if p == t: # check character by character\n",
    "            match = True\n",
    "            for i in range(m):\n",
    "                if pattern[i] != text[s+i]:\n",
    "                    match = False\n",
    "                    break\n",
    "            if match:\n",
    "                result = result + [s]\n",
    "        if s < n-m:\n",
    "\n",
    "            t = (t-h*ord(text[s]))%q # remove letter s\n",
    "            t = (t*d+ord(text[s+m]))%q # add letter s+m\n",
    "            t = (t+q)%q # make sure that t >= 0\n",
    "            print(s, text[s],t)\n",
    "    return result\n",
    "print (Rabin_Karp_Matcher (\"3141592653589793\", \"26\", 257, 11))\n",
    "print (Rabin_Karp_Matcher (\"xxxxx\", \"xx\", 40999999, 999999937))\n",
    "\n",
    "\n"
   ]
  },
  {
   "cell_type": "code",
   "execution_count": null,
   "metadata": {},
   "outputs": [],
   "source": []
  }
 ],
 "metadata": {
  "kernelspec": {
   "display_name": "Python 3.10.0 64-bit",
   "language": "python",
   "name": "python3"
  },
  "language_info": {
   "codemirror_mode": {
    "name": "ipython",
    "version": 3
   },
   "file_extension": ".py",
   "mimetype": "text/x-python",
   "name": "python",
   "nbconvert_exporter": "python",
   "pygments_lexer": "ipython3",
   "version": "3.10.0"
  },
  "orig_nbformat": 4,
  "vscode": {
   "interpreter": {
    "hash": "49ed69d14c5bafd33dd9e3625d3b76637c4ab0eb3e78e730b1c53bf7385e46f6"
   }
  }
 },
 "nbformat": 4,
 "nbformat_minor": 2
}
