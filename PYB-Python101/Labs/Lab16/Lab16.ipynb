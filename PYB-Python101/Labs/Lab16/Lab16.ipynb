{
 "cells": [
  {
   "cell_type": "code",
   "execution_count": 3,
   "metadata": {},
   "outputs": [
    {
     "name": "stdout",
     "output_type": "stream",
     "text": [
      "[1, 'Did not get gold', 'Did not get gold', 10, 'Did not get gold', 46]\n"
     ]
    }
   ],
   "source": [
    "gold = {\"US\": 46, \"Fiji\": 1, \"Great Britain\": 27, \"Cuba\": 5, \"Thailand\": 2, \"China\": 26, \"France\": 10}\n",
    "country = [\"Fiji\", \"Chile\", \"Mexico\", \"France\", \"Norway\", \"US\"]\n",
    "country_gold = []\n",
    "\n",
    "for x in country:\n",
    "    try:\n",
    "        country_gold.append(gold[x])\n",
    "    except KeyError:\n",
    "        country_gold.append(\"Did not get gold\")\n",
    "\n",
    "print(country_gold)"
   ]
  },
  {
   "cell_type": "code",
   "execution_count": 5,
   "metadata": {},
   "outputs": [
    {
     "name": "stdout",
     "output_type": "stream",
     "text": [
      "[2, 4, 10, 4, 4, 5, 5, 1]\n"
     ]
    }
   ],
   "source": [
    "lst = [2, 4, 10, 42, 12, 0, 4, 7, 21, 4, 83, 8, 5, 6, 8, 234, 5, 6, 523, 42, 34, 0, 234, 1, 435, 465, 56, 7, 3, 43, 23]\n",
    "\n",
    "lst_three = []\n",
    "\n",
    "for num in lst:\n",
    "    try:\n",
    "        if 100 % num == 0:\n",
    "            lst_three.append(num)      \n",
    "    except ZeroDivisionError:\n",
    "        continue\n",
    "print(lst_three)"
   ]
  }
 ],
 "metadata": {
  "interpreter": {
   "hash": "6e50d9ec6c6f7d534eea5659bfad9487466ffcd335d8236a47e8604067c5b3c6"
  },
  "kernelspec": {
   "display_name": "Python 3.10.0 64-bit",
   "language": "python",
   "name": "python3"
  },
  "language_info": {
   "codemirror_mode": {
    "name": "ipython",
    "version": 3
   },
   "file_extension": ".py",
   "mimetype": "text/x-python",
   "name": "python",
   "nbconvert_exporter": "python",
   "pygments_lexer": "ipython3",
   "version": "3.10.0"
  },
  "orig_nbformat": 4
 },
 "nbformat": 4,
 "nbformat_minor": 2
}
