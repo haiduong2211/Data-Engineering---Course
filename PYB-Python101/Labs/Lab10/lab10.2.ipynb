{
 "cells": [
  {
   "cell_type": "code",
   "execution_count": 5,
   "metadata": {},
   "outputs": [
    {
     "name": "stdout",
     "output_type": "stream",
     "text": [
      "Luong cua nhan vien Nguyen Hai Duong nhan duoc trong thang 4 la: '16,650,000' VND.\n"
     ]
    }
   ],
   "source": [
    "class NhanVien:\n",
    "    def __init__(self,name,thong_tin):\n",
    "        thongtin = thong_tin.split()\n",
    "        self.month = thongtin[0]    \n",
    "        self.name = name\n",
    "        self.so_ngay_lam_viec = int(thongtin[2])\n",
    "        self.luong_co_ban = float(thongtin[1])\n",
    "        self.he_so_luong = float(thongtin[3])\n",
    "    def tinh_luong(self):\n",
    "        total_luong = self.luong_co_ban * self.so_ngay_lam_viec*self.he_so_luong - 1000000\n",
    "        if total_luong > 9000000:\n",
    "            total_luong = total_luong*0.9\n",
    "            return int(total_luong)\n",
    "        else:\n",
    "            return int(total_luong)\n",
    "    def hien_thi_luong(self):\n",
    "        print(\"Luong cua nhan vien {} nhan duoc trong thang {} la: '{:,}' VND.\".format(self.name,self.month,self.tinh_luong()))\n",
    "\n",
    "ten_nhan_vien = \"Nguyen Hai Duong\"\n",
    "thong_tin = \"4 1000000 15 1.3\"\n",
    "a = NhanVien(ten_nhan_vien,thong_tin)\n",
    "a.hien_thi_luong()"
   ]
  }
 ],
 "metadata": {
  "interpreter": {
   "hash": "6e50d9ec6c6f7d534eea5659bfad9487466ffcd335d8236a47e8604067c5b3c6"
  },
  "kernelspec": {
   "display_name": "Python 3.10.0 64-bit",
   "language": "python",
   "name": "python3"
  },
  "language_info": {
   "codemirror_mode": {
    "name": "ipython",
    "version": 3
   },
   "file_extension": ".py",
   "mimetype": "text/x-python",
   "name": "python",
   "nbconvert_exporter": "python",
   "pygments_lexer": "ipython3",
   "version": "3.10.0"
  },
  "orig_nbformat": 4
 },
 "nbformat": 4,
 "nbformat_minor": 2
}
