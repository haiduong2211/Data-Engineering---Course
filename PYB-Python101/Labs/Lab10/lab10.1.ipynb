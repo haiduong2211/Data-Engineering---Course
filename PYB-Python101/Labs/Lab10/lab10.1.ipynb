{
 "cells": [
  {
   "cell_type": "code",
   "execution_count": 1,
   "metadata": {},
   "outputs": [
    {
     "name": "stdout",
     "output_type": "stream",
     "text": [
      "The average mark of Jelly is 8.39\n"
     ]
    }
   ],
   "source": [
    "class Student:\n",
    "    def __init__(self, student_name, diemtk):\n",
    "        self.name = student_name\n",
    "        self.diemtk = diemtk\n",
    "        lstdiem = diemtk.split()\n",
    "        for i,v in enumerate(lstdiem):\n",
    "            lstdiem[i] = float(v)\n",
    "        self.avg = round(sum(lstdiem)/ len(lstdiem),2)\n",
    "    def print_diemtk(self):\n",
    "        print(\"The average mark of {} is {}\".format(self.name,self.avg))\n",
    "\n",
    "student = \"Jelly\"\n",
    "diemtb = \"8.54 9.32 7.32\"\n",
    "my_object = Student(student,diemtb)\n",
    "my_object.print_diemtk()"
   ]
  },
  {
   "cell_type": "code",
   "execution_count": null,
   "metadata": {},
   "outputs": [],
   "source": []
  }
 ],
 "metadata": {
  "interpreter": {
   "hash": "6e50d9ec6c6f7d534eea5659bfad9487466ffcd335d8236a47e8604067c5b3c6"
  },
  "kernelspec": {
   "display_name": "Python 3.10.0 64-bit",
   "language": "python",
   "name": "python3"
  },
  "language_info": {
   "codemirror_mode": {
    "name": "ipython",
    "version": 3
   },
   "file_extension": ".py",
   "mimetype": "text/x-python",
   "name": "python",
   "nbconvert_exporter": "python",
   "pygments_lexer": "ipython3",
   "version": "3.10.0"
  },
  "orig_nbformat": 4
 },
 "nbformat": 4,
 "nbformat_minor": 2
}
