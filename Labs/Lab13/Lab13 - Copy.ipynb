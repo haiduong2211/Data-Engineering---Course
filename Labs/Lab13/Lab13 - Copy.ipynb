{
 "cells": [
  {
   "cell_type": "code",
   "execution_count": 2,
   "metadata": {},
   "outputs": [
    {
     "name": "stdout",
     "output_type": "stream",
     "text": [
      "[<title>Welcome to the comments assignment from www.py4e.com</title>]\n"
     ]
    }
   ],
   "source": [
    "\n",
    "import urllib.request, urllib.parse, urllib.error\n",
    "from bs4 import BeautifulSoup\n",
    "\n",
    "html= urllib.request.urlopen('http://python-data.dr-chuck.net/comments_24964.html').read()\n",
    "soup = BeautifulSoup(html,'html.parser')\n",
    "tags=soup('title')\n",
    "print(tags)\n"
   ]
  },
  {
   "cell_type": "code",
   "execution_count": null,
   "metadata": {},
   "outputs": [],
   "source": [
    "sum=0\n",
    "for tag in tags:\n",
    "    sum=sum+int(tag.contents[0])\n",
    "print(sum)"
   ]
  },
  {
   "cell_type": "code",
   "execution_count": null,
   "metadata": {},
   "outputs": [],
   "source": [
    "\n",
    "import urllib.request, urllib.parse, urllib.error\n",
    "from bs4 import BeautifulSoup\n",
    "\n",
    "html= urllib.request.urlopen('http://python-data.dr-chuck.net/comments_24964.html').read()\n",
    "soup = BeautifulSoup(html,'html.parser') #soup is the code of the website\n",
    "tags=soup('span') #this is a list of <span class=\"comment\">97</span>\n",
    "sum=0\n",
    "for tag in tags:\n",
    "    sum=sum+int(tag.contents[0])\n",
    "print(sum)"
   ]
  }
 ],
 "metadata": {
  "interpreter": {
   "hash": "6e50d9ec6c6f7d534eea5659bfad9487466ffcd335d8236a47e8604067c5b3c6"
  },
  "kernelspec": {
   "display_name": "Python 3.10.0 64-bit",
   "language": "python",
   "name": "python3"
  },
  "language_info": {
   "codemirror_mode": {
    "name": "ipython",
    "version": 3
   },
   "file_extension": ".py",
   "mimetype": "text/x-python",
   "name": "python",
   "nbconvert_exporter": "python",
   "pygments_lexer": "ipython3",
   "version": "3.10.0"
  },
  "orig_nbformat": 4
 },
 "nbformat": 4,
 "nbformat_minor": 2
}
