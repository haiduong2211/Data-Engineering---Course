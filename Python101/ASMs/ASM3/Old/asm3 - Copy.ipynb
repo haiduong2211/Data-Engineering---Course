{
 "cells": [
  {
   "cell_type": "code",
   "execution_count": null,
   "metadata": {},
   "outputs": [],
   "source": [
    "# File thông tin thuế XML\n",
    "info1 = \"https://firebasestorage.googleapis.com/v0/b/funix-way.appspot.com/o/xSeries%2FChung%20chi%20dieu%20kien%2FPYB101x_1.1%2FASM_Resources%2Ftax.xml?alt=media&token=f7a6f73d-9e6d-4807-bb14-efc6875442c7\"\n",
    "\n",
    "#File Phạt muộn JSON\n",
    "info2 =\" https://firebasestorage.googleapis.com/v0/b/funix-way.appspot.com/o/xSeries%2FChung%20chi%20dieu%20kien%2FPYB101x_1.1%2FASM_Resources%2Flate_coming.json?alt=media&token=55246ee9-44fa-4642-aca2-dde101d705de\""
   ]
  },
  {
   "cell_type": "code",
   "execution_count": null,
   "metadata": {},
   "outputs": [],
   "source": [
    "'''id = input(\"Nhập id :\")\n",
    "name = input(\"Nhập Name :\")\n",
    "salary_base = input(\"Nhập hệ số lương cơ bản :\")\n",
    "working_days = input(\"Nhập số ngày làm việc trong tháng :\")\n",
    "department = input(\"Nhập mã bộ phận :\")\n",
    "working_performance = input(\"Nhập hiệu quả số :\")\n",
    "bonus = input(\"Nhập thưởng :\")\n",
    "late_comming_days = input(\"Nhập số ngày đi muộn :\")'''"
   ]
  },
  {
   "cell_type": "code",
   "execution_count": null,
   "metadata": {},
   "outputs": [],
   "source": [
    "id = '001'\n",
    "name = 'Dương'\n",
    "salary_base = 200000\n",
    "working_days = 22\n",
    "department = 'HF01'\n",
    "working_performance = 1.1\n",
    "bonus =3000000\n",
    "late_comming_days = 4"
   ]
  },
  {
   "cell_type": "code",
   "execution_count": null,
   "metadata": {},
   "outputs": [],
   "source": [
    "#Tạo các class\n",
    "class Employee:\n",
    "    def __init__(self,id,name,salary_base,working_days,department,working_performance,bonus,late_comming_days):\n",
    "        self.id = id\n",
    "        self.name = name\n",
    "        self.salary_base = salary_base\n",
    "        self.working_days = working_days\n",
    "        self.department = department\n",
    "        self.working_performance = working_performance\n",
    "        self.bonus = bonus\n",
    "        self.late_comming_days = late_comming_days\n",
    "\n",
    "    def tinhluong(self):\n",
    "        self.salary = (self.salary_base * self.working_days) * self.working_performance\n",
    "        self.income = self.salary+self.bonus\n",
    "        \n",
    "        \n",
    "    def tinhphat(self):\n",
    "        file2 = urllib.request.urlopen(info2).read()\n",
    "        data2 = json.loads(file2)\n",
    "        print(data2)\n",
    "        for a in data2:\n",
    "            try:\n",
    "                if a['min'] < working_days <= a['max']:\n",
    "                    print(value)\n",
    "            except KeyError:\n",
    "                print('a')\n",
    "\n",
    "\n",
    "#Kế thừa từ class Nhân viên\n",
    "class Manager(Employee):\n",
    "    def __init__(self,id,name,salary_base,working_days,department,working_performance,bonus,late_comming_days):\n",
    "        super.__init__(id,name,salary_base,working_days,department,working_performance,bonus,late_comming_days)\n",
    "\n",
    "class Department():\n",
    "    def __init__(self,id,bonus_salary):\n",
    "        self.did = id\n",
    "        self.bonus_salary = bonus_salary\n",
    "\n"
   ]
  },
  {
   "cell_type": "code",
   "execution_count": null,
   "metadata": {},
   "outputs": [],
   "source": [
    "import urllib.request, urllib.parse, urllib.error\n",
    "import json\n",
    "import xml.etree.ElementTree as ET\n",
    "\n",
    "#xử lý xml file\n",
    "file1 = urllib.request.urlopen(info1).read()\n",
    "root = ET.fromstring(file1)\n",
    "#Lọc ra các giá trị điều kiện\n",
    "max_list = root.findall('.//max')\n",
    "min_list = root.findall('.//min')\n",
    "tax_list = root.findall('.//value')\n",
    "#print(len(max_list),len(min_list),len(tax_list))\n",
    "set2 = set()\n",
    "set3 = set()\n",
    "\n",
    "for ele in min_list:\n",
    "    set2.add(int(ele.text)*1000000)\n",
    "for ele in tax_list:\n",
    "    set3.add(int(ele.text)/100)\n",
    "print(sorted(set2),len(set2))\n",
    "print(sorted(set3),len(set3))\n",
    "\n",
    "dict1 = {}\n"
   ]
  },
  {
   "cell_type": "code",
   "execution_count": null,
   "metadata": {},
   "outputs": [],
   "source": [
    "file2 = urllib.request.urlopen(info2).read()\n",
    "data2 = json.loads(file2)\n",
    "print(type(late_comming_days))\n",
    "for a in data2:\n",
    "    try:\n",
    "        if a['min'] < late_comming_days < a['max']:\n",
    "            print(a['min',type(a['min'])])\n",
    "    except KeyError:\n",
    "        print(a['min'])"
   ]
  },
  {
   "cell_type": "code",
   "execution_count": null,
   "metadata": {},
   "outputs": [],
   "source": [
    "file1 = urllib.request.urlopen(info1).read().decode()\n",
    "data1 = ET.fromstring(file1)\n",
    "tax_list = data1.findall('tax')\n",
    "for tax in tax_list:\n",
    "    print(int(tax.find('min').text))"
   ]
  },
  {
   "cell_type": "code",
   "execution_count": null,
   "metadata": {},
   "outputs": [],
   "source": [
    "net_income = 10000000\n",
    "file1 = urllib.request.urlopen(info1).read().decode()\n",
    "data1 = ET.fromstring(file1)\n",
    "tax_list = data1.findall('tax')\n",
    "for tax in tax_list:\n",
    "    try:\n",
    "        if int(tax.find('min').text) <= net_income/1000000 < int(tax.find('max').text):\n",
    "            tax_amount = int(tax.find('value').text)/100\n",
    "            print(int(tax.find('value').text))\n",
    "    except KeyError:\n",
    "        if int(tax.find('min').text) <= net_income/1000000:\n",
    "            print(int(tax.find('value').text))"
   ]
  },
  {
   "cell_type": "code",
   "execution_count": null,
   "metadata": {},
   "outputs": [],
   "source": [
    "navi = input(\"1. Hiển thị danh sách nhân viên.\\n2. Hiển thị danh sách bộ phận.\\n3\")"
   ]
  }
 ],
 "metadata": {
  "interpreter": {
   "hash": "6e50d9ec6c6f7d534eea5659bfad9487466ffcd335d8236a47e8604067c5b3c6"
  },
  "kernelspec": {
   "display_name": "Python 3.10.0 64-bit",
   "language": "python",
   "name": "python3"
  },
  "language_info": {
   "codemirror_mode": {
    "name": "ipython",
    "version": 3
   },
   "file_extension": ".py",
   "mimetype": "text/x-python",
   "name": "python",
   "nbconvert_exporter": "python",
   "pygments_lexer": "ipython3",
   "version": "3.10.0"
  },
  "orig_nbformat": 4
 },
 "nbformat": 4,
 "nbformat_minor": 2
}
