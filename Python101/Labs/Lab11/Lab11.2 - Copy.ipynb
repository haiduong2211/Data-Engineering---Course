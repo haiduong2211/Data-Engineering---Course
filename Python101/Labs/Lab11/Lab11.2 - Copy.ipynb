{
 "cells": [
  {
   "cell_type": "code",
   "execution_count": 34,
   "metadata": {},
   "outputs": [
    {
     "name": "stdout",
     "output_type": "stream",
     "text": [
      "A basket of 4 red apples.\n",
      "A basket of 5 red apples.\n"
     ]
    }
   ],
   "source": [
    "class AppleBasket:\n",
    "    def __init__(self,color,quantity):\n",
    "        self.apple_color = color\n",
    "        self.apple_quantity = quantity\n",
    "        \n",
    "    def increase(self):\n",
    "        self.apple_quantity += 1\n",
    "        return self.apple_quantity\n",
    "\n",
    "    def __str__(self):\n",
    "        return (\"A basket of {} {} apples.\".format(self.apple_quantity,self.apple_color))\n",
    "\n",
    "testOne = AppleBasket('red',4)\n",
    "print(testOne)\n",
    "testOne.increase()\n",
    "print(testOne)\n"
   ]
  }
 ],
 "metadata": {
  "interpreter": {
   "hash": "6e50d9ec6c6f7d534eea5659bfad9487466ffcd335d8236a47e8604067c5b3c6"
  },
  "kernelspec": {
   "display_name": "Python 3.10.0 64-bit",
   "language": "python",
   "name": "python3"
  },
  "language_info": {
   "name": "python",
   "version": "3.10.0"
  },
  "orig_nbformat": 4
 },
 "nbformat": 4,
 "nbformat_minor": 2
}
