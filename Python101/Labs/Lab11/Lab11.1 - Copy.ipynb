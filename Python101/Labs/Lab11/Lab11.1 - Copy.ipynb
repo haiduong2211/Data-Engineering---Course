{
 "cells": [
  {
   "cell_type": "code",
   "execution_count": 1,
   "metadata": {},
   "outputs": [
    {
     "name": "stdout",
     "output_type": "stream",
     "text": [
      "blue 89.99\n",
      "purple 25.0\n"
     ]
    }
   ],
   "source": [
    "class Bike:\n",
    "    def __init__(self,color,price ):\n",
    "        self.color = color\n",
    "        self.price = price\n",
    "\n",
    "testOne = Bike(\"blue\",89.99)\n",
    "testTwo = Bike(\"purple\", 25.0)\n",
    "\n",
    "print(testOne.color, testOne.price)\n",
    "print(testTwo.color, testTwo.price)\n"
   ]
  }
 ],
 "metadata": {
  "interpreter": {
   "hash": "6e50d9ec6c6f7d534eea5659bfad9487466ffcd335d8236a47e8604067c5b3c6"
  },
  "kernelspec": {
   "display_name": "Python 3.10.0 64-bit",
   "language": "python",
   "name": "python3"
  },
  "language_info": {
   "codemirror_mode": {
    "name": "ipython",
    "version": 3
   },
   "file_extension": ".py",
   "mimetype": "text/x-python",
   "name": "python",
   "nbconvert_exporter": "python",
   "pygments_lexer": "ipython3",
   "version": "3.10.0"
  },
  "orig_nbformat": 4
 },
 "nbformat": 4,
 "nbformat_minor": 2
}
